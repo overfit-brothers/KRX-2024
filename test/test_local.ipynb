{
 "cells": [
  {
   "cell_type": "code",
   "execution_count": 1,
   "metadata": {},
   "outputs": [
    {
     "name": "stderr",
     "output_type": "stream",
     "text": [
      "/home/infidea/.local/lib/python3.8/site-packages/tqdm/auto.py:21: TqdmWarning: IProgress not found. Please update jupyter and ipywidgets. See https://ipywidgets.readthedocs.io/en/stable/user_install.html\n",
      "  from .autonotebook import tqdm as notebook_tqdm\n"
     ]
    }
   ],
   "source": [
    "import sys\n",
    "from transformers import AutoModelForCausalLM, AutoTokenizer\n",
    "sys.path.append('../')\n",
    "from utils.data_utils import prepare_data,load_dataset_config,format_instruction_prompt\n",
    "import torch"
   ]
  },
  {
   "cell_type": "code",
   "execution_count": 78,
   "metadata": {},
   "outputs": [],
   "source": [
    "def change_str(example):\n",
    "    change_map = {\n",
    "        \"①\": \"A.\",\n",
    "        \"②\": \"B.\",\n",
    "        \"③\": \"C.\",\n",
    "        \"④\": \"D.\"\n",
    "    }\n",
    "    for key, value in change_map.items():\n",
    "        example['question'] = example['question'].replace(key, value)\n",
    "        example['answer'] = example['answer'].replace(key, value)\n",
    "    return example"
   ]
  },
  {
   "cell_type": "code",
   "execution_count": 79,
   "metadata": {},
   "outputs": [
    {
     "name": "stderr",
     "output_type": "stream",
     "text": [
      "Map: 100%|██████████| 98/98 [00:00<00:00, 7318.86 examples/s]\n"
     ]
    }
   ],
   "source": [
    "dataset_new = dataset.map(change_str)"
   ]
  },
  {
   "cell_type": "code",
   "execution_count": 27,
   "metadata": {},
   "outputs": [
    {
     "name": "stderr",
     "output_type": "stream",
     "text": [
      "Generating train split: 138 examples [00:00, 18033.27 examples/s]\n"
     ]
    }
   ],
   "source": [
    "from datasets import load_dataset\n",
    "\n",
    "tesat = load_dataset(\"overfit-brothers/TESAT\")"
   ]
  },
  {
   "cell_type": "code",
   "execution_count": 31,
   "metadata": {},
   "outputs": [
    {
     "data": {
      "text/plain": [
       "{'question': '종합부동산세의 존치와 폐지를 주장하는 다음의 글을 읽고 이들 논리로부터 유추한 보기의 설명 중 가장 부적절한 것을 고르시오.\\n\\n◆존치론=종합부동산세는 소수의 부동산 부자들로부터 세금을 걷어 지방의 서민들을 지원하는 정의로운 세금이다. 미국 등 선진국은 부동산 보유세율이 우리나라보다 몇 배나 높다. 보유세율을 정상화한다는 의미에서도 종부세는 폐지할 수 없다. 부동산 시장을 안정시키고 투기를 잡기 위해서라도 종부세는 필수적이다. 종부세를 폐지하는 것은 소수의 부자를 위한 것이다.\\n\\n◆폐지론=선진국의 보유세는 대부분 종부세와 같은 누진율이 아닌 정률세로 운영된다. 부동산을 가진 모든 국민이 동일한 세율로 납부하는 것이다. 일부 부자에게 지방재정에 대한 책임을 떠넘긴다는 면에서 이 세금은 정의롭지도 못하다. 더구나 고가의 부동산을 보유했다고 해서 진짜 부자인 것도 아니다. 세금이 부동산 가격을 안정시키는 효과도 없다.\\n\\n1 존치론자의 논리대로라면 종부세가 아닌 재산세를 올려야 한다.\\n2 폐지론자는 세금은 고루 부담하는 보편성을 가져야 정의롭다고 본다.\\n3 폐지론자는 순자산에 매기는 부유세에 찬성할 가능성이 있다.\\n4 존치론자는 세금 인상이 부동산 가격을 안정시키는 기능을 한다고 믿는다.\\n5 폐지론자는 보유세를 무겁게 매기는 것에 포괄적으로 반대한다.',\n",
       " 'answer': \"폐지론자는 부유세에 찬성할 가능성이 있다'는 3번 선택지를 정답으로 고른 사람은 폐지론의 논거중 '고가 부동산을 보유했다고 해서 진짜 부자인 것도 아니다'는 부분을 흘려 읽었기 때문이다.\\n\\n문제를 정확하게 읽지 않았기 때문에 '종부세 반대는 곧 부자들을 옹호하는 것'이라고 쉽게 결론짓게 되고 결과적으로 3번을 고르게 되었다. 주장을 비판적으로 읽는 노력이 필요한 것은 바로 이 때문이다.\\n\\n주장의 내용을 구체적으로 살펴봐야 하는 많은 사회적 쟁점들을 단순히 이념적 편가르기 식으로 받아들이고 만다면 진정한 토론이 성립되기 힘들다. 종부세를 찬성하면 가난한 서민의 편, 반대하면 부자들 편이라고 예단한다면 더이상 진지한 토론은 불가능하다.\\n\\n이는 1번 선택지를 고른 응답자도 마찬가지다. 이 그룹의 응답자들은 종부세와 재산세를 오해하고 있다. 실제로 미국 등 많은 선진국들은 자산가액 1%의 높은 세율을 부자 서민 가리지 않고 매기고 있다. 그러나 이 높은 세율의 세금은 재산세를 말하는 것이지 종부세가 아니다.\\n정답 5번\"}"
      ]
     },
     "execution_count": 31,
     "metadata": {},
     "output_type": "execute_result"
    }
   ],
   "source": [
    "tesat['train'][2]"
   ]
  },
  {
   "cell_type": "code",
   "execution_count": 1,
   "metadata": {},
   "outputs": [
    {
     "name": "stderr",
     "output_type": "stream",
     "text": [
      "/home/infidea/.local/lib/python3.8/site-packages/tqdm/auto.py:21: TqdmWarning: IProgress not found. Please update jupyter and ipywidgets. See https://ipywidgets.readthedocs.io/en/stable/user_install.html\n",
      "  from .autonotebook import tqdm as notebook_tqdm\n"
     ]
    }
   ],
   "source": [
    "import sys\n",
    "from transformers import AutoModelForCausalLM, AutoTokenizer\n",
    "sys.path.append('../')\n",
    "from utils.data_utils import prepare_data,load_dataset_config,format_instruction_prompt\n",
    "import torch"
   ]
  },
  {
   "cell_type": "code",
   "execution_count": 3,
   "metadata": {},
   "outputs": [
    {
     "name": "stderr",
     "output_type": "stream",
     "text": [
      "/home/infidea/.local/lib/python3.8/site-packages/torchao/ops.py:12: FutureWarning: `torch.library.impl_abstract` was renamed to `torch.library.register_fake`. Please use that instead; we will remove `torch.library.impl_abstract` in a future version of PyTorch.\n",
      "  return torch.library.impl_abstract(f\"{name}\")(func)\n",
      "Loading checkpoint shards: 100%|██████████| 4/4 [00:02<00:00,  1.39it/s]\n"
     ]
    }
   ],
   "source": [
    "model2 = \"outputs/Qwen2.5-7B-Instruct-YS-JJIN-FINAL\"\n",
    "model2 = AutoModelForCausalLM.from_pretrained(model2, trust_remote_code=True, device_map=\"auto\", torch_dtype=torch.bfloat16)\n"
   ]
  },
  {
   "cell_type": "code",
   "execution_count": 4,
   "metadata": {},
   "outputs": [
    {
     "name": "stderr",
     "output_type": "stream",
     "text": [
      "Loading checkpoint shards: 100%|██████████| 4/4 [00:02<00:00,  1.37it/s]\n"
     ]
    }
   ],
   "source": [
    "model_name = \"mergekit/merged\"\n",
    "model = AutoModelForCausalLM.from_pretrained(model_name, trust_remote_code=True, device_map=\"auto\", torch_dtype=torch.bfloat16)\n",
    "tokenizer = AutoTokenizer.from_pretrained(model_name, trust_remote_code=True)"
   ]
  },
  {
   "cell_type": "code",
   "execution_count": 17,
   "metadata": {},
   "outputs": [
    {
     "data": {
      "text/plain": [
       "'<|im_start|>system\\nYou are a helpful assistant.\\nPlease follow these steps:\\n1. Carefully work through a step-by-step solution to the question.\\n2. After completing the solution, state the final answer.<|im_end|>\\n<|im_start|>user\\nhello\\n따라서 정답은<|im_end|>\\n<|im_start|>assistant\\n'"
      ]
     },
     "execution_count": 17,
     "metadata": {},
     "output_type": "execute_result"
    }
   ],
   "source": [
    "chat = {\"role\":\"user\", \"content\":\"hello\"}\n",
    "tem = tokenizer.apply_chat_template([chat], tokenize=False)\n",
    "tem"
   ]
  },
  {
   "cell_type": "code",
   "execution_count": null,
   "metadata": {},
   "outputs": [],
   "source": [
    "model.push_to_hub('overfit-brothers/Qwen2.5-7B-Instruct-YS-JJIN-FINAL', private=True, token=\"hf_XXX\")\n",
    "tokenizer.push_to_hub('overfit-brothers/Qwen2.5-7B-Instruct-YS-JJIN-FINAL', private=True, token=\"hf_XXX\")"
   ]
  },
  {
   "cell_type": "code",
   "execution_count": 5,
   "metadata": {},
   "outputs": [],
   "source": [
    "PROMPT_FORMAT = \"\"\"### 질문: {} ### 정답: \"\"\"\n",
    "\n",
    "def make_chat(text):\n",
    "    prompt = PROMPT_FORMAT.format(text)\n",
    "    return prompt\n",
    "\n",
    "def make_answer(model,tokenizer, instruction):\n",
    "\n",
    "    chat_template = make_chat(instruction)\n",
    "    inputs = tokenizer(chat_template, return_tensors=\"pt\").to('cuda')\n",
    "    answer = model.generate(**inputs, max_new_tokens = 1024, use_cache = True, repetition_penalty = 1.2)\n",
    "    answer_chat = tokenizer.decode(answer[0], skip_special_tokens=True)\n",
    "    print(answer_chat)\n",
    "    return answer_chat\n",
    "# 답 C\n",
    "q = \"\"\"\n",
    "아래와 같은 경기변동의 양상이 나타날 때 필요한 정책은?\n",
    "- 지난해보다 실업률 급격히 상승\n",
    "- 국내총생산(GDP)은 지난해보다 감소\n",
    "- 소비자물가지수가 지난해보다 하락해 마이너스를 기록\n",
    "### 선택지:\n",
    "A. 세율을 인상하고 통화량을 늘린다.\n",
    "B. 통화량을 늘리고 이자율을 높인다.\n",
    "C. 이자율을 낮추고 세율을 인하한다.\n",
    "D. 정부 지출을 줄이고 통화량을 줄인다.\n",
    "E. 정부 지출을 줄이고 이자율을 낮춘다.\n",
    "\"\"\"\n",
    "# 답 B\n",
    "q2 = \"\"\"아래 나열한 지표와 가장 관련이 깊은 것은 무엇인가?\n",
    "- LTV  - DTI  - DSR\n",
    "### 선택지:\n",
    "A. 기업손실     B. 가계부채     C. 재정적자     D. 무역수지     E. 환율변동\"\"\"\n",
    "\n",
    "# 답 A/home/infidea/workspace/magpie\n",
    "q3 = \"\"\"주어진 데이터프레임을 보고 질문에 요구에 알맞는 코드를 선택하시요.\n",
    "### df.head()\n",
    "|    | Symbol    | Series   | Date        |   Prev Close |   Open Price |   High Price |   Low Price |   Last Price |   Close Price |   Average Price |   Total Traded Quantity |    Turnover |   No. of Trades |   Deliverable Qty |   % Dly Qt to Traded Qty |\n",
    "|---:|:----------|:---------|:------------|-------------:|-------------:|-------------:|------------:|-------------:|--------------:|----------------:|------------------------:|------------:|----------------:|------------------:|-------------------------:|\n",
    "|  0 | GODREJIND | EQ       | 15-May-2017 |       564.6  |       581    |       584    |      568.5  |       578.9  |        578.55 |          578.09 |                  797171 | 4.60836e+08 |           21649 |            360927 |                    45.28 |\n",
    "|  1 | GODREJIND | EQ       | 16-May-2017 |       578.55 |       581.45 |       589    |      572.25 |       583.8  |        584.8  |          583.6  |                  500223 | 2.9193e+08  |           17204 |            210364 |                    42.05 |\n",
    "|  2 | GODREJIND | EQ       | 17-May-2017 |       584.8  |       583    |       594    |      576.85 |       584.9  |        588.6  |          588.74 |                  504155 | 2.96815e+08 |            8567 |            261667 |                    51.9  |\n",
    "|  3 | GODREJIND | EQ       | 18-May-2017 |       588.6  |       582    |       588.85 |      571.2  |       572.25 |        574.6  |          580.9  |                  223583 | 1.29879e+08 |            7144 |             99785 |                    44.63 |\n",
    "|  4 | GODREJIND | EQ       | 19-May-2017 |       574.6  |       581    |       585.8  |      567.55 |       579.85 |        578    |          577.31 |                  245436 | 1.41692e+08 |            4969 |             68041 |                    27.72 |\n",
    "\n",
    "### 질문:\n",
    "“거래량” 열의 중간값을 계산합니다.\n",
    "\n",
    "### 선택지:\n",
    "a) ```python\n",
    "df['Total Traded Quantity'].median()\n",
    "```\n",
    "b) ```python\n",
    "df['Total Traded Quantity'].mean()\n",
    "```\n",
    "c) ```python\n",
    "df['Total_Traded_Quantity'].median()\n",
    "```\n",
    "d) ```python\n",
    "df['Total Traded Quantity'].sum()\n",
    "```\n",
    "\"\"\"\n",
    "# 답 B\n",
    "q4 = \"\"\"\n",
    "정보 비대칭과 관련한 설명으로 옳지 않은 것은?\n",
    "### 선택지: \n",
    "A. 노동시장에서 도덕적 해이를 해결하기 위해 효율성 임금을 지급한다.\n",
    "B. 신호 보내기는 정보가 부족한 주체가 상대방의 정보를 얻기 위해 하는 행위이다.\n",
    "C. 도덕적 해이는 사용자가 대리인의 행동을 완벽하게 감시할 수 없을 때 발생한다.\n",
    "D. 정보 비대칭이 존재하는 시장에서는 정부의 개입으로 자원 배분의 효율성을 개선할 수도 있다.\n",
    "E. 보험회사는 가입자의 자가 부담금이 있는 보험 상품을 판매함으로써 정보 비대칭으로 발생하는 문제를 완화할 수 있다.\n",
    "\"\"\"\n",
    "# 답 B\n",
    "q5 = \"\"\"\n",
    "한 나라의 총수요를 증가시키는 요인이 _아닌_ 것은?\n",
    "### 선택지 : \n",
    "A. 기업의 투자 증가 \n",
    "B. 해외 직구 수입 증가\n",
    "C. 정부의 재정지출 증가 \n",
    "D. 가계의 소비지출 증가\n",
    "E. 중앙은행의 기준금리 인하\n",
    "\"\"\"\n"
   ]
  },
  {
   "cell_type": "code",
   "execution_count": 10,
   "metadata": {},
   "outputs": [
    {
     "name": "stderr",
     "output_type": "stream",
     "text": [
      "Setting `pad_token_id` to `eos_token_id`:None for open-end generation.\n"
     ]
    },
    {
     "name": "stdout",
     "output_type": "stream",
     "text": [
      "### 질문: \n",
      "한 나라의 총수요를 증가시키는 요인이 _아닌_ 것은?\n",
      "### 선택지 : \n",
      "A. 기업의 투자 증가 \n",
      "B. 해외 직구 수입 증가\n",
      "C. 정부의 재정지출 증가 \n",
      "D. 가계의 소비지출 증가\n",
      "E. 중앙은행의 기준금리 인하\n",
      " ### 정답:  B\n"
     ]
    },
    {
     "data": {
      "text/plain": [
       "'### 질문: \\n한 나라의 총수요를 증가시키는 요인이 _아닌_ 것은?\\n### 선택지 : \\nA. 기업의 투자 증가 \\nB. 해외 직구 수입 증가\\nC. 정부의 재정지출 증가 \\nD. 가계의 소비지출 증가\\nE. 중앙은행의 기준금리 인하\\n ### 정답:  B'"
      ]
     },
     "execution_count": 10,
     "metadata": {},
     "output_type": "execute_result"
    }
   ],
   "source": [
    "# merged\n",
    "make_answer(model,tokenizer,q5)"
   ]
  },
  {
   "cell_type": "code",
   "execution_count": 8,
   "metadata": {},
   "outputs": [
    {
     "name": "stdout",
     "output_type": "stream",
     "text": [
      "### 질문: 주어진 데이터프레임을 보고 질문에 요구에 알맞는 코드를 선택하시요.\n",
      "### df.head()\n",
      "|    | Symbol    | Series   | Date        |   Prev Close |   Open Price |   High Price |   Low Price |   Last Price |   Close Price |   Average Price |   Total Traded Quantity |    Turnover |   No. of Trades |   Deliverable Qty |   % Dly Qt to Traded Qty |\n",
      "|---:|:----------|:---------|:------------|-------------:|-------------:|-------------:|------------:|-------------:|--------------:|----------------:|------------------------:|------------:|----------------:|------------------:|-------------------------:|\n",
      "|  0 | GODREJIND | EQ       | 15-May-2017 |       564.6  |       581    |       584    |      568.5  |       578.9  |        578.55 |          578.09 |                  797171 | 4.60836e+08 |           21649 |            360927 |                    45.28 |\n",
      "|  1 | GODREJIND | EQ       | 16-May-2017 |       578.55 |       581.45 |       589    |      572.25 |       583.8  |        584.8  |          583.6  |                  500223 | 2.9193e+08  |           17204 |            210364 |                    42.05 |\n",
      "|  2 | GODREJIND | EQ       | 17-May-2017 |       584.8  |       583    |       594    |      576.85 |       584.9  |        588.6  |          588.74 |                  504155 | 2.96815e+08 |            8567 |            261667 |                    51.9  |\n",
      "|  3 | GODREJIND | EQ       | 18-May-2017 |       588.6  |       582    |       588.85 |      571.2  |       572.25 |        574.6  |          580.9  |                  223583 | 1.29879e+08 |            7144 |             99785 |                    44.63 |\n",
      "|  4 | GODREJIND | EQ       | 19-May-2017 |       574.6  |       581    |       585.8  |      567.55 |       579.85 |        578    |          577.31 |                  245436 | 1.41692e+08 |            4969 |             68041 |                    27.72 |\n",
      "\n",
      "### 질문:\n",
      "“거래량” 열의 중간값을 계산합니다.\n",
      "\n",
      "### 선택지:\n",
      "a) ```python\n",
      "df['Total Traded Quantity'].median()\n",
      "```\n",
      "b) ```python\n",
      "df['Total Traded Quantity'].mean()\n",
      "```\n",
      "c) ```python\n",
      "df['Total_Traded_Quantity'].median()\n",
      "```\n",
      "d) ```python\n",
      "df['Total Traded Quantity'].sum()\n",
      "```\n",
      " ### 정답: 1단계: 문제 이해하기 - \"거래량\" 열의 중간값을 구하는 것이 목표입니다.\n",
      "2단계: 각 선택지를 분석해보기\n",
      "   a) `df['Total Traded Quantity'].median()`: 'Total Traded Quantity' 열의 중간값을 반환합니다.\n",
      "   b) `df['Total Traded Quantity'].mean()`: 'Total Traded Quantity' 열의 평균 값을 반환합니다.\n",
      "   c) `df['Total_Traded_Quantity'].median()`: 잘못된 열 이름으로 인해 오류가 발생할 것입니다.\n",
      "   d) `df['Total Traded Quantity'].sum()`: 'Total Traded Quantity' 열의 합계를 반환합니다.\n",
      "3단계: 결과 비교 및 결론 도출 - 선택지 A에서 제공한 코드는 원래 열 이름과 일치하여 올바른 방법이며, 다른 선택지는 적절하지 않습니다.\n",
      "따라서 정답은 A입니다.\n"
     ]
    },
    {
     "data": {
      "text/plain": [
       "'### 질문: 주어진 데이터프레임을 보고 질문에 요구에 알맞는 코드를 선택하시요.\\n### df.head()\\n|    | Symbol    | Series   | Date        |   Prev Close |   Open Price |   High Price |   Low Price |   Last Price |   Close Price |   Average Price |   Total Traded Quantity |    Turnover |   No. of Trades |   Deliverable Qty |   % Dly Qt to Traded Qty |\\n|---:|:----------|:---------|:------------|-------------:|-------------:|-------------:|------------:|-------------:|--------------:|----------------:|------------------------:|------------:|----------------:|------------------:|-------------------------:|\\n|  0 | GODREJIND | EQ       | 15-May-2017 |       564.6  |       581    |       584    |      568.5  |       578.9  |        578.55 |          578.09 |                  797171 | 4.60836e+08 |           21649 |            360927 |                    45.28 |\\n|  1 | GODREJIND | EQ       | 16-May-2017 |       578.55 |       581.45 |       589    |      572.25 |       583.8  |        584.8  |          583.6  |                  500223 | 2.9193e+08  |           17204 |            210364 |                    42.05 |\\n|  2 | GODREJIND | EQ       | 17-May-2017 |       584.8  |       583    |       594    |      576.85 |       584.9  |        588.6  |          588.74 |                  504155 | 2.96815e+08 |            8567 |            261667 |                    51.9  |\\n|  3 | GODREJIND | EQ       | 18-May-2017 |       588.6  |       582    |       588.85 |      571.2  |       572.25 |        574.6  |          580.9  |                  223583 | 1.29879e+08 |            7144 |             99785 |                    44.63 |\\n|  4 | GODREJIND | EQ       | 19-May-2017 |       574.6  |       581    |       585.8  |      567.55 |       579.85 |        578    |          577.31 |                  245436 | 1.41692e+08 |            4969 |             68041 |                    27.72 |\\n\\n### 질문:\\n“거래량” 열의 중간값을 계산합니다.\\n\\n### 선택지:\\na) ```python\\ndf[\\'Total Traded Quantity\\'].median()\\n```\\nb) ```python\\ndf[\\'Total Traded Quantity\\'].mean()\\n```\\nc) ```python\\ndf[\\'Total_Traded_Quantity\\'].median()\\n```\\nd) ```python\\ndf[\\'Total Traded Quantity\\'].sum()\\n```\\n ### 정답: 1단계: 문제 이해하기 - \"거래량\" 열의 중간값을 구하는 것이 목표입니다.\\n2단계: 각 선택지를 분석해보기\\n   a) `df[\\'Total Traded Quantity\\'].median()`: \\'Total Traded Quantity\\' 열의 중간값을 반환합니다.\\n   b) `df[\\'Total Traded Quantity\\'].mean()`: \\'Total Traded Quantity\\' 열의 평균 값을 반환합니다.\\n   c) `df[\\'Total_Traded_Quantity\\'].median()`: 잘못된 열 이름으로 인해 오류가 발생할 것입니다.\\n   d) `df[\\'Total Traded Quantity\\'].sum()`: \\'Total Traded Quantity\\' 열의 합계를 반환합니다.\\n3단계: 결과 비교 및 결론 도출 - 선택지 A에서 제공한 코드는 원래 열 이름과 일치하여 올바른 방법이며, 다른 선택지는 적절하지 않습니다.\\n따라서 정답은 A입니다.'"
      ]
     },
     "execution_count": 8,
     "metadata": {},
     "output_type": "execute_result"
    }
   ],
   "source": [
    "# JJIN_FINAL\n",
    "make_answer(model2,tokenizer,q3)"
   ]
  },
  {
   "cell_type": "markdown",
   "metadata": {},
   "source": [
    "### MCQA:\n",
    "  - \"overfit-brothers/example-mcqa\"\n",
    "  - \"overfit-brothers/TESAT\"\n",
    "  - \"overfit-brothers/krx-textbook\"\n",
    "  - \"overfit-brothers/mmmlu_revised_augmented_cot\" \n",
    "  - \"overfit-brothers/financial-market-law-mcqa\"\n",
    "### instruct:\n",
    "  - \"overfit-brothers/example-it\"\n",
    "  - \"overfit-brothers/financial_judgement_instructions\"\n",
    "  - \"overfit-brothers/financial-market-law-it\""
   ]
  },
  {
   "cell_type": "code",
   "execution_count": 1,
   "metadata": {},
   "outputs": [
    {
     "name": "stderr",
     "output_type": "stream",
     "text": [
      "/home/infidea/.local/lib/python3.10/site-packages/tqdm/auto.py:21: TqdmWarning: IProgress not found. Please update jupyter and ipywidgets. See https://ipywidgets.readthedocs.io/en/stable/user_install.html\n",
      "  from .autonotebook import tqdm as notebook_tqdm\n"
     ]
    }
   ],
   "source": [
    "from datasets import load_dataset\n",
    "financial = load_dataset(\"overfit-brothers/financial-mmlu-ko-cot\")\n",
    "# financial.save_to_disk(\"financial_dataset.json\")"
   ]
  },
  {
   "cell_type": "code",
   "execution_count": 10,
   "metadata": {},
   "outputs": [],
   "source": [
    "res_list = []\n",
    "for datum in financial['train']:\n",
    "    question = datum['question']\n",
    "    answer = datum['answer']\n",
    "    question = question.replace('\\n1.', ' ### 선택지: A.').replace('\\n2.',' B.').replace('\\n3.',' C.').replace('\\n4.',' D.').replace('\\n5.',' E.')\n",
    "    answer = answer.replace('풀이: ','')\n",
    "    answer = answer.replace('1번','A').replace('2번','B').replace('3번','C').replace('4번','D').replace('5번','E')\n",
    "    answer = answer.replace('1.','A.').replace('2.','B.').replace('3.','C.').replace('4.','D.').replace('5.','E.')\n",
    "    answer = answer.replace('정답은','정답:')\n",
    "    answer = answer.replace('정답: 1','### 정답: A').replace('정답: 2','### 정답: B').replace('정답: 3','### 정답: C').replace('정답: 4','### 정답: D').replace('정답: 5','### 정답: E')\n",
    "    res = {\n",
    "        'question': question,\n",
    "        'answer': answer\n",
    "    }\n",
    "    res_list.append(res)"
   ]
  },
  {
   "cell_type": "code",
   "execution_count": 11,
   "metadata": {},
   "outputs": [],
   "source": [
    "import json\n",
    "with open('financial_revise.json','w',encoding='utf-8') as f:\n",
    "    json.dump(res_list,f,ensure_ascii=False,indent=4)\n"
   ]
  },
  {
   "cell_type": "code",
   "execution_count": 19,
   "metadata": {},
   "outputs": [
    {
     "data": {
      "text/plain": [
       "{'question': '테일러 준칙에 따르면 중앙은행의 단기목표금리는 어떤 요소들을 고려하여 결정되는가?\\n1. 물가갭(실제 인플레이션율 - 목표인플레이션율)과 생산갭(실제성장률 - 잠재성장률)\\n2. 물가갭(실제 인플레이션율 - 목표인플레이션율)과 실업률\\n3. 생산갭(실제성장률 - 잠재성장률)과 임금인상률\\n4. 실업률과 임금인상률',\n",
       " 'answer': '테일러 준칙은 중앙은행의 단기목표금리를 설정할 때 두 가지 주요 요소를 고려합니다. 첫째, 물가갭은 실제 인플레이션율과 목표 인플레이션율의 차이를 나타내며, 이는 인플레이션 조절을 위한 금리 조정의 필요성을 반영합니다. 둘째, 생산갭은 실제 성장률과 잠재 성장률의 차이를 나타내며, 이는 경제의 과열 또는 침체를 방지하기 위한 금리 조정의 필요성을 반영합니다. 따라서, 테일러 준칙에 따르면 중앙은행은 물가갭과 생산갭을 고려하여 단기목표금리를 결정합니다. 정답은 1입니다.'}"
      ]
     },
     "execution_count": 19,
     "metadata": {},
     "output_type": "execute_result"
    }
   ],
   "source": [
    "financial['train'][-100]"
   ]
  },
  {
   "cell_type": "code",
   "execution_count": 2,
   "metadata": {},
   "outputs": [],
   "source": [
    "import json\n",
    "\n",
    "with open('financial_revise.json', 'r',encoding='utf-8') as f:\n",
    "    data = json.load(f)"
   ]
  },
  {
   "cell_type": "code",
   "execution_count": 5,
   "metadata": {},
   "outputs": [],
   "source": [
    "data\n",
    "new_list = []\n",
    "for datum in data:\n",
    "    question = ' '.join(datum['question'].replace('\\n', ' ').split())\n",
    "    answer = ' '.join(datum['answer'].replace('\\n', ' ').split())\n",
    "    if answer.endswith('입니다.'):\n",
    "        answer = answer[:-4]\n",
    "    new_list.append({'question': question, 'answer': answer})"
   ]
  },
  {
   "cell_type": "code",
   "execution_count": 7,
   "metadata": {},
   "outputs": [],
   "source": [
    "new_list\n",
    "\n",
    "with open('financial_revise.json','w',encoding='utf-8') as f:\n",
    "    json.dump(new_list,f,ensure_ascii=False,indent=4)"
   ]
  },
  {
   "cell_type": "code",
   "execution_count": 3,
   "metadata": {},
   "outputs": [
    {
     "data": {
      "text/plain": [
       "455"
      ]
     },
     "execution_count": 3,
     "metadata": {},
     "output_type": "execute_result"
    }
   ],
   "source": [
    "len(data)"
   ]
  },
  {
   "cell_type": "code",
   "execution_count": 7,
   "metadata": {},
   "outputs": [],
   "source": [
    "from datasets import load_dataset\n",
    "label_dataset = load_dataset('allganize/financial-mmlu-ko')['test']"
   ]
  },
  {
   "cell_type": "code",
   "execution_count": 9,
   "metadata": {},
   "outputs": [],
   "source": [
    "answer_map = {'1': 'A', '2': 'B', '3': 'C', '4': 'D', '5': 'E'}\n",
    "label_list = []\n",
    "for datum in label_dataset:\n",
    "    conv = datum['conversations']\n",
    "    answer = answer_map[conv[-1]['value']]\n",
    "    label_list.append(answer)\n"
   ]
  },
  {
   "cell_type": "code",
   "execution_count": 12,
   "metadata": {},
   "outputs": [
    {
     "name": "stdout",
     "output_type": "stream",
     "text": [
      "414/455\n"
     ]
    }
   ],
   "source": [
    "total_len = len(data)\n",
    "answer_cnt = 0\n",
    "correct_list = []\n",
    "for label, datum in zip(label_list, data):\n",
    "    hypothesis_answer = max(['A', 'B', 'C', 'D', 'E'], key=lambda x: datum['answer'].count(x))\n",
    "    if label == hypothesis_answer:\n",
    "        answer_cnt += 1\n",
    "        correct_list.append(datum)\n",
    "print(f'{answer_cnt}/{total_len}')\n",
    "    "
   ]
  },
  {
   "cell_type": "code",
   "execution_count": 14,
   "metadata": {},
   "outputs": [
    {
     "name": "stderr",
     "output_type": "stream",
     "text": [
      "Creating parquet from Arrow format: 100%|██████████| 1/1 [00:00<00:00, 340.92ba/s]\n",
      "Uploading the dataset shards: 100%|██████████| 1/1 [00:02<00:00,  2.08s/it]\n"
     ]
    },
    {
     "data": {
      "text/plain": [
       "CommitInfo(commit_url='https://huggingface.co/datasets/overfit-brothers/financial-mmlu-ko-cot-revised/commit/127e30c6c42160c6443fffac555bf0dbdb63e539', commit_message='Upload dataset', commit_description='', oid='127e30c6c42160c6443fffac555bf0dbdb63e539', pr_url=None, repo_url=RepoUrl('https://huggingface.co/datasets/overfit-brothers/financial-mmlu-ko-cot-revised', endpoint='https://huggingface.co', repo_type='dataset', repo_id='overfit-brothers/financial-mmlu-ko-cot-revised'), pr_revision=None, pr_num=None)"
      ]
     },
     "execution_count": 14,
     "metadata": {},
     "output_type": "execute_result"
    }
   ],
   "source": [
    "from datasets import Dataset\n",
    "correct_dataset = Dataset.from_list(correct_list)\n",
    "correct_dataset.push_to_hub(\"overfit-brothers/financial-mmlu-ko-cot-revised\")"
   ]
  }
 ],
 "metadata": {
  "kernelspec": {
   "display_name": "Python 3",
   "language": "python",
   "name": "python3"
  },
  "language_info": {
   "codemirror_mode": {
    "name": "ipython",
    "version": 3
   },
   "file_extension": ".py",
   "mimetype": "text/x-python",
   "name": "python",
   "nbconvert_exporter": "python",
   "pygments_lexer": "ipython3",
   "version": "3.10.15"
  }
 },
 "nbformat": 4,
 "nbformat_minor": 2
}
