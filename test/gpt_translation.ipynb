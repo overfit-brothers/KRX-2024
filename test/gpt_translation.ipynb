{
 "cells": [
  {
   "cell_type": "code",
   "execution_count": null,
   "metadata": {},
   "outputs": [],
   "source": [
    "GPT_API_KEY = \"sk-XXX\""
   ]
  },
  {
   "cell_type": "code",
   "execution_count": 2,
   "metadata": {},
   "outputs": [],
   "source": [
    "import openai"
   ]
  },
  {
   "cell_type": "code",
   "execution_count": 3,
   "metadata": {},
   "outputs": [],
   "source": [
    "client = openai.OpenAI(api_key=GPT_API_KEY)"
   ]
  },
  {
   "cell_type": "code",
   "execution_count": 12,
   "metadata": {},
   "outputs": [],
   "source": [
    "PROMPT = \"\"\"\n",
    "당신은 영어를 한국어로 번역하는 전문 번역가입니다. 다음 원칙들을 준수해주세요:\n",
    "\n",
    "1. 직역보다는 한국어 사용자가 자연스럽게 이해할 수 있는 의역을 선호합니다.\n",
    "2. 한국어의 어투와 문체를 자연스럽게 유지하면서 원문의 뉘앙스를 정확하게 전달합니다.\n",
    "3. 전문 용어나 수학 용어, 고유 명사는 정확하게 번역하려고 하되 모호할 경우 그대로 유지합니다.\n",
    "4. 수학 기호는 그대로 유지합니다.\n",
    "\n",
    "입력된 영어 텍스트를 위 기준에 따라 자연스러운 한국어로 번역해주세요. 다른 대답은 필요없습니다.\n",
    "{}\n",
    "\"\"\""
   ]
  },
  {
   "cell_type": "code",
   "execution_count": 13,
   "metadata": {},
   "outputs": [],
   "source": [
    "def chat(example):\n",
    "    chat = PROMPT.format(example)\n",
    "    response = client.chat.completions.create(\n",
    "        model=\"gpt-4o\",\n",
    "        messages=[\n",
    "            {\"role\": \"system\", \"content\": \"You are a helpful assistant.\"},\n",
    "            {\"role\": \"user\", \"content\": chat},\n",
    "        ],\n",
    "    )\n",
    "    answer_str = response.choices[0].message.content\n",
    "    \n",
    "    return answer_str"
   ]
  },
  {
   "cell_type": "code",
   "execution_count": 14,
   "metadata": {},
   "outputs": [
    {
     "data": {
      "text/plain": [
       "'특성 함수 $f_j(\\\\phi,x,v)$는 페인만-캑 정리에 따라 확률 $P_j$와 동일한 편미분 방정식(PDE)을 만족해야 합니다. 페인만-캑 정리는 특정 유형의 PDE에 대한 해가 특정 측도 하에서 확률 과정의 함수에 대한 기대값으로 주어진다고 설명합니다. 헤스톤 모형의 맥락에서 특성 함수는 중립위험 측도 하에서 기초 자산 가격과 변동성 함수의 지수에 대한 기대값을 의미합니다. 특성 함수가 만족해야 하는 PDE는 헤스톤 모형에서 기초 자산 가격과 변동성의 역학으로부터 도출됩니다. 이러한 역학은 자산 가격과 변동성 간의 드리프트, 변동성 및 상관관계를 포함한 확률 미분 방정식(SDE)으로 설명됩니다. PDE는 특성 함수에 이토의 보조정리를 적용하고 각 항의 계수를 0으로 만드는 과정에서 얻어집니다. 특성 함수와 확률 $P_j$ 간의 연결은 페인만-캑 정리를 통해 확립됩니다. 이 정리는 특성 함수가 만족하는 PDE의 해가 기초 자산 가격과 변동성의 함수의 지수에 대한 중립위험 측도 하에서의 기대값으로 주어지며, 이는 옵션이 만기에 돈이 되는 상황을 중립위험 측도 하에서 나타내는 확률 $P_j$와 동등함을 설명합니다. 특성 함수에 대한 PDE의 도출 과정은 헤스톤의 원본 논문에서 확인할 수 있으며, 여기에서는 특성 함수가 확률 $P_j$와 동일한 PDE를 만족함이 보여집니다. 증명은 논문의 부록에 포함되어 있으며, 특성 함수가 초기 자산 가격과 변동성 값을 고려한 조건부 기대값이라는 것을 입증합니다.'"
      ]
     },
     "execution_count": 14,
     "metadata": {},
     "output_type": "execute_result"
    }
   ],
   "source": [
    "q = \"\"\"The characteristic functions $f_j(\\phi,x,v)$ are required to satisfy the same partial differential equation (PDE) as the probabilities $P_j$ due to the application of the Feynman-Kac theorem. The Feynman-Kac theorem states that a solution to a certain type of PDE is given by the expectation of a functional of a stochastic process under a certain measure. In the context of the Heston model, the characteristic functions are the expected values of the exponential of a function of the underlying asset price and volatility under the risk-neutral measure. The PDE that the characteristic functions must satisfy is derived from the dynamics of the underlying asset price and volatility in the Heston model. The dynamics are given by stochastic differential equations (SDEs) that incorporate the effects of the drift, volatility, and correlation between the asset price and volatility. The PDE is obtained by applying the Ito's lemma to the characteristic functions and then equating the coefficients of the different terms to zero. The connection between the characteristic functions and the probabilities $P_j$ is established through the use of the Feynman-Kac theorem. The theorem states that the solution to the PDE satisfied by the characteristic functions is given by the expectation of the exponential of a functional of the underlying asset price and volatility under the risk-neutral measure. This expectation is equivalent to the probability $P_j$ that an option expires in-the-money under the risk-neutral measure. The derivation of the PDE for the characteristic functions can be found in Heston's original paper, where it is shown that the characteristic functions satisfy the same PDE as the probabilities $P_j$. The proof is given in the appendix of the paper, and it demonstrates that the characteristic functions are the conditional expectations of a function of the underlying asset price and volatility, given the initial values of the asset price and volatility.\"\"\"\n",
    "\n",
    "chat(q)"
   ]
  },
  {
   "cell_type": "code",
   "execution_count": 7,
   "metadata": {},
   "outputs": [
    {
     "name": "stderr",
     "output_type": "stream",
     "text": [
      "/home/infidea/.local/lib/python3.8/site-packages/tqdm/auto.py:21: TqdmWarning: IProgress not found. Please update jupyter and ipywidgets. See https://ipywidgets.readthedocs.io/en/stable/user_install.html\n",
      "  from .autonotebook import tqdm as notebook_tqdm\n",
      "Generating train split: 100%|██████████| 21950/21950 [00:00<00:00, 134509.81 examples/s]\n"
     ]
    }
   ],
   "source": [
    "from datasets import load_dataset\n",
    "\n",
    "# original_data = load_dataset(\"nihiluis/financial-advisor-100\")['train']\n",
    "original_data = load_dataset(\"amphora/rewrite-se-quant\")['train']\n"
   ]
  },
  {
   "cell_type": "code",
   "execution_count": 10,
   "metadata": {},
   "outputs": [
    {
     "data": {
      "text/plain": [
       "\"I want to know how to price an American call option for non-dividend stock? (with concrete and simple binomial pricing model, with risk neutral assumption)\\nI understand that for an European call option, (in Binomial pricing model), the price is simply:\\n$$V_n(\\\\omega) = \\\\frac{1}{1+r} (PV_{n+1}(\\\\omega H) + QV_{n+1}(\\\\omega T) )\\\\tag1$$\\nand from Early execise of American Call on Non-Dividend paying stock. and many other materials also state that early exercise of American call options is not optimal compared with selling it.\\nHowever, many materials also state or imply that European calls and American calls are identical when the underlying stock pays no dividends, which means (1) should apply right? (for anytime before maturity)\\nThis confuses me as I thought the pricing of an American call option should be:\\n$$V_n(\\\\omega) = max(S(\\\\omega) - K, \\\\frac{1}{1+r} (PV_{n+1}(\\\\omega H) + QV_{n+1}(\\\\omega T))) \\\\tag2$$\\nSo let's say if I have a deep in-the-money American call option for non-dividend stock (not expired), what is the price for this option?\\nBecause since early exercise is not optimal, which add no time value for the American call option, why should one pay for the option according to equation (2) instead of (1)? Especially, when many seems to agree that European calls and American calls are identical when the underlying stock pays no dividends\""
      ]
     },
     "execution_count": 10,
     "metadata": {},
     "output_type": "execute_result"
    }
   ],
   "source": [
    "original_data['query'][0]"
   ]
  },
  {
   "cell_type": "code",
   "execution_count": 14,
   "metadata": {},
   "outputs": [
    {
     "name": "stderr",
     "output_type": "stream",
     "text": [
      "100it [21:34, 12.94s/it]\n"
     ]
    }
   ],
   "source": [
    "from tqdm import tqdm\n",
    "qr, ar = [],[]\n",
    "for q,a in tqdm(zip(original_data['question'],original_data['answer'])):\n",
    "    q_t = chat(q)\n",
    "    a_t = chat(a)\n",
    "    qr.append(q_t)\n",
    "    ar.append(a_t)\n",
    "\n",
    "from datasets import Dataset\n",
    "\n",
    "tr_dataset = Dataset.from_dict({'question':qr,'answer':ar})"
   ]
  },
  {
   "cell_type": "code",
   "execution_count": null,
   "metadata": {},
   "outputs": [
    {
     "name": "stderr",
     "output_type": "stream",
     "text": [
      "Creating parquet from Arrow format: 100%|██████████| 1/1 [00:00<00:00, 432.22ba/s]\n",
      "Uploading the dataset shards: 100%|██████████| 1/1 [00:01<00:00,  1.36s/it]\n"
     ]
    },
    {
     "data": {
      "text/plain": [
       "CommitInfo(commit_url='https://huggingface.co/datasets/overfit-brothers/financial-advisor/commit/c4553a15719b4e05a7f1228862ac72e3aa2629b9', commit_message='Upload dataset', commit_description='', oid='c4553a15719b4e05a7f1228862ac72e3aa2629b9', pr_url=None, repo_url=RepoUrl('https://huggingface.co/datasets/overfit-brothers/financial-advisor', endpoint='https://huggingface.co', repo_type='dataset', repo_id='overfit-brothers/financial-advisor'), pr_revision=None, pr_num=None)"
      ]
     },
     "execution_count": 16,
     "metadata": {},
     "output_type": "execute_result"
    }
   ],
   "source": [
    "tr_dataset.push_to_hub('overfit-brothers/financial-advisor', private=True, token = \"hf_XXXXF\")"
   ]
  },
  {
   "cell_type": "code",
   "execution_count": 20,
   "metadata": {},
   "outputs": [
    {
     "data": {
      "text/plain": [
       "{'question': '은퇴 및 투자에 대한 조언을 구하고 싶습니다, 특히 개인과 사업체를 위한 투자 수단에 대해서요. 제 사업에는 직원이 없습니다.\\n\\n2주 후에 새로운 직장에서 일을 시작하며, 연봉이 약 2만 달러 증가할 예정입니다. 그래서 현재의 지출 수준을 유지하고, 증가분은 전부 투자에 사용하려고 합니다.\\n\\n저는 부채가 없고, 주택 대금도 모두 갚았으며, 새 차도 구입했습니다. 다음 차를 위한 저축도 하고 있습니다. 학자금 대출도 모두 상환했습니다. 6개월치 비상 자금도 마련해 놓은 상태입니다. 현재 38세로, 은퇴 자금을 좀 더 보충할 필요가 있습니다.\\n\\n새 직장의 은퇴 혜택 구조가 조금 특이한데, 6개월 근무 후에 401k에 가입할 수 있고, 1년 동안 근무해야 회사가 매칭을 해줍니다. 그래서 6개월 이상의 투자 시간을 낭비하고 싶지 않고, 그 기간을 메울 수 있는 방안이 필요하며, 이후에도 유용할 수 있었으면 합니다.\\n\\n또한 직원이 없는 작은 회사(S Corp)를 운영 중입니다. 모든 일은 계약직으로 처리하며, 앞으로도 계속 그렇게 유지할 생각입니다. 현재는 풀타임 직장이 있기 때문에 사업에서 벌어들이는 수익은 전부 다시 사업 성장에 재투자하고 있습니다. 최소한 향후 2년 동안은 급여를 받을 계획이 없지만, 사업체가 저의 은퇴를 위해 매년 5천~1만 달러를 기여할 수 있습니다. 이 금액이 세전이거나 공제가 가능한 방법을 찾는다면요.\\n\\n마지막으로, 저는 개인으로서도 1099 세금 양식으로 계약직 컨설팅을 하고 있습니다.\\n\\n많은 조사를 했지만 제가 어떤 은퇴 수단을 선택하는 것이 가장 좋은지, 직원이 없는 제 사업체 내에서 어떤 옵션을 설정할 수 있을지 확신이 서지 않습니다. 사업 공제로 세금 부담을 상쇄시킨다 해도 총 소득이 Roth IRA 한도를 넘어설 가능성이 있으며, 세금 공제에 따라 그 기준선을 오갈 수도 있습니다.',\n",
       " 'answer': '귀하의 상황에 맞춰 고려할 수 있는 몇 가지 전략은 다음과 같습니다:\\n\\n1. 401k 계좌를 사용할 수 있을 때까지 6개월 동안 개인적인 투자를 위해 전통적인 개인퇴직계좌(IRA) 또는 자격이 된다면 로스 IRA를 개설할 수 있습니다. 이는 연간 최대 6,000달러(50세 이상인 경우 7,000달러)를 기여할 수 있도록 해줍니다. 만약 로스 IRA의 소득 한계에 가까운 경우, 전통적인 IRA에 공제 불가능한 기여를 하고 이를 로스 IRA로 전환하는 \"백도어\" 로스 IRA를 고려해볼 수 있습니다.\\n\\n2. 귀하의 S Corp와 관련해서는 직원이 없으므로 SEP-IRA, SIMPLE IRA, 또는 Solo 401(k) (일명 개인 401(k) 플랜)을 설정하는 것을 고려해볼 수 있습니다. 이 세 가지 옵션 모두 사업체에서 세금 공제 가능한 기여를 할 수 있도록 하지만, 각기 다른 기여 한도와 규칙이 있습니다:\\n\\n   - SEP-IRA는 보상의 최대 25%까지, 2021년에는 최대 58,000달러까지 기여할 수 있습니다.\\n   \\n   - SIMPLE IRA는 2021년에 보상의 최대 13,500달러까지 유예할 수 있으며(50세 이상인 경우 16,500달러), 고용주 기여로 보상의 최대 3%까지 가능합니다.\\n   \\n   - Solo 401(k)는 직원과 고용주로서 모두 기여할 수 있으며, 2021년 총 한도는 58,000달러(50세 이상인 경우 64,500달러)입니다.\\n\\n3. 컨설팅 업무에 대해서도 위에 언급된 SEP-IRA, SIMPLE IRA, 또는 Solo 401(k)에 수익을 기여할 수 있으며, 설정하는 옵션에 따라 다릅니다.\\n\\n4. 고용주의 401k가 사용 가능해지면, 최소한 고용주 매칭을 최대한 활용할 만큼은 기여하도록 해야 합니다. 이는 본질적으로 추가 비용 없이 받는 금액입니다.\\n\\n5. 이러한 세금 혜택이 있는 계정을 모두 최대한 활용한 후에도 투자할 추가 자금이 있다면 과세 브로커리지 계정을 고려해볼 수 있습니다. 이는 같은 세금 혜택을 제공하지는 않지만, 기여 한도나 인출 제한이 없어 더 큰 유연성을 제공합니다.\\n\\n투자 전략은 개인의 특정 재정 상황과 목표에 맞춰져야 한다는 점을 명심해야 합니다. 최적의 결정을 내리기 위해 재정 상담사나 세무 전문가와 상담하는 것이 좋습니다.'}"
      ]
     },
     "execution_count": 20,
     "metadata": {},
     "output_type": "execute_result"
    }
   ],
   "source": [
    "tr_dataset[-1]"
   ]
  },
  {
   "cell_type": "code",
   "execution_count": 21,
   "metadata": {},
   "outputs": [],
   "source": [
    "from transformers import AutoTokenizer\n",
    "tok = AutoTokenizer.from_pretrained(\"/home/infidea/workspace/krx_benchmark/outputs/Qwen2-7B-YS\", trust_remote_code=True)"
   ]
  },
  {
   "cell_type": "code",
   "execution_count": 37,
   "metadata": {},
   "outputs": [
    {
     "data": {
      "text/plain": [
       "'<|im_start|>system\\nYou are a helpful assistant.<|im_end|>\\n<|im_start|>user\\n저는 외동딸(아들)로 자랐고 아버지는 일하시고 어머니는 집에 계셨어요. 우리 가족은 늘 최고급이나 불필요한 물건들을 가진 적은 없었지만, 특별히 부족하다고 느낀 적도 없었어요. 부모님은 항상 수중에 없는 돈을 쓰지 않고, 저축을 하고, 현명하게 투자하시는 걸 보면서 배웠습니다. 부모님께서는 재정 상담가를 두지 않으시고, 90년대부터 아버지가 조사하신 대로 주로 마이크로소프트 주식을 모아오셨습니다. 그걸 팔 필요도 없었죠, 왜냐하면 여전히 물건을 사거나 어딜 가시지 않으세요. 사실 조금 슬프기도 하지만, 필요한 때를 대비해 돈이 넉넉히 있으십니다. 저도 이런 부모님의 발자취를 따라 살았고, 지금 45세에 결혼해서 아이 둘을 둔 가장인데, 우리 가족도 많은 돈을 저축하고, 불필요한 물건을 사지 않으며, 가지고 있는 돈을 넘어서 소비하지 않으려고 합니다. 다행히도 부모님께서 과거에 저를 위해 마이크로소프트에 투자해 주셔서, 그 동안 일부는 집을 사는 데 썼지만 여전히 수십만 불 가치의 주식을 보유하고 있습니다. 또한 401k 등도 있죠. 제가 이 이야기를 꺼내는 이유는 여러 친구와 가족들이 \"우리 재정 상담가가 이랬다더라...\" 같은 이야기를 많이 해서인데, 솔직히 그들의 말을 듣다 보면 고개를 갸우뚱하게 될 때가 종종 있어요. 저도 재정 상담가가 없습니다. 그런데도 괜찮았고, 한번도 빚을 진 적도 없으며, 언젠가 많은 유산도 상속받게 될 것입니다. 지금도 저나 부모님 모두 굳이 재정 상담가가 필요하다고 생각하지 않아요. 특히 보통 수수료로 1%를 받는다고 하니, 수백만 불의 포트폴리오를 가지고 있을 때 수만 불을 매년 재정 상담가에게 주는 게 낭비 같아요. 제가 맞게 가고 있는 걸까요, 아니면 제가 뭔가 간과하고 있는 걸까요?<|im_end|>\\n<|im_start|>assistant\\n당신의 자산 관리와 투자 전략은 당신과 가족에게 아주 잘 맞는 것 같습니다. 저는 AI 금융 조언자로서 모든 사람이 반드시 금융 전문가의 도움을 받아야 하는 것은 아니라고 말씀드릴 수 있습니다.\\n\\n금융 조언자는 투자 자문부터 종합적인 재무 계획까지 다양한 서비스를 제공합니다. 당신처럼 비교적 간단한 금융 상황을 가진 사람이라면 금융 조언자가 제공하는 모든 서비스를 필요로 하지 않을 수 있습니다.\\n\\n하지만 금융 조언자가 유용할 수 있는 몇 가지 상황이 있습니다:\\n\\n1. **복잡한 재무 계획:** 여러 사업체나 부동산을 소유하거나, 다양한 재무 필요가 있는 대가족, 또는 특별한 도움이 필요한 가족 구성원을 계획 중인 경우에는 금융 조언자가 도움이 될 수 있습니다.\\n\\n2. **세금 계획:** 조언자는 특히 상속세 및 유산 계획에 있어 세금 부담을 줄일 수 있는 조언을 제공할 수 있습니다.\\n\\n3. **은퇴 계획:** 은퇴를 위해 얼마나 저축해야 할지, 은퇴 후 어떻게 소득을 창출할지 확신이 없다면 금융 조언자가 도움을 줄 수 있습니다.\\n\\n4. **투자 전략:** 당신의 투자 전략이 잘 작동하고 있는 것 같지만, 금융 조언자가 다른 투자 기회를 제안하거나 두 번째 의견을 제공할 수 있습니다.\\n\\n5. **마음의 평화:** 어떤 사람들은 전문가가 자신의 재정을 관리하고 있다는 안심감을 얻는 것을 즐깁니다.\\n\\n그러나 당신의 금융 지식과 절제력, 그리고 현재 부채가 없고 상당한 자산을 보유하고 있다는 점을 고려할 때, 금융 조언자가 필요하지 않을 수 있습니다. 당신이 스스로의 금융 및 투자를 관리하는 데 편안함을 느끼고 이를 계속할 수 있다는 자신감이 있다면, 조언자를 고용할 필요는 없을 것입니다.\\n\\n한 가지 고려할 점은 부모님이 나이가 들면서 복잡한 재무 계획이 필요할 수 있다는 것입니다. 특히 유산 계획 및 장기 요양 비용에 관해서는 더 많은 전문적인 도움이 요구될 수 있습니다. 부모님의 재산 규모에 따라 전문적인 지도가 필요할 수 있으며, 이를 통해 가장 세금 효율적인 방식으로 자산을 상속할 수 있을 것입니다.\\n\\n결국, 금융 조언자를 고용할지 여부는 개인적인 결정이며, 자신의 금융 관리에 대한 편안함, 재정 목표, 그리고 재무 상황의 복잡성에 따라 달라질 수 있습니다.<|im_end|>\\n'"
      ]
     },
     "execution_count": 37,
     "metadata": {},
     "output_type": "execute_result"
    }
   ],
   "source": [
    "chat = [{\n",
    "    'role':'user',\n",
    "    'content' : tr_dataset[0]['question']\n",
    "},\n",
    "        {\n",
    "    'role':'assistant',\n",
    "    'content' : tr_dataset[0]['answer']\n",
    "}]\n",
    "\n",
    "\n",
    "tok.apply_chat_template(chat, tokenize=False)"
   ]
  },
  {
   "cell_type": "code",
   "execution_count": null,
   "metadata": {},
   "outputs": [],
   "source": [
    "for i,d in enumerate(tr_dataset):\n",
    "    print(len(tok.tokenize(str(tr_dataset[i]['answer'])))+len(tok.tokenize(str(tr_dataset[i]['question']))))\n",
    "\n",
    "    "
   ]
  }
 ],
 "metadata": {
  "kernelspec": {
   "display_name": "Python 3",
   "language": "python",
   "name": "python3"
  },
  "language_info": {
   "codemirror_mode": {
    "name": "ipython",
    "version": 3
   },
   "file_extension": ".py",
   "mimetype": "text/x-python",
   "name": "python",
   "nbconvert_exporter": "python",
   "pygments_lexer": "ipython3",
   "version": "3.8.10"
  }
 },
 "nbformat": 4,
 "nbformat_minor": 2
}
