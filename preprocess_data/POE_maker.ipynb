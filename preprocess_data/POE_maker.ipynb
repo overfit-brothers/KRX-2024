{
 "cells": [
  {
   "cell_type": "code",
   "execution_count": null,
   "metadata": {},
   "outputs": [],
   "source": [
    "from datasets import load_dataset\n",
    "import pandas as pd\n",
    "from huggingface_hub import login\n",
    "import random\n",
    "import re\n",
    "\n",
    "login(token=\"<your_token>\")  # 로그인 위젯 실행 (토큰 필요)\n"
   ]
  },
  {
   "cell_type": "code",
   "execution_count": null,
   "metadata": {},
   "outputs": [],
   "source": [
    "dataset = load_dataset('<your_dataset>')"
   ]
  },
  {
   "cell_type": "code",
   "execution_count": null,
   "metadata": {},
   "outputs": [],
   "source": [
    "dataset.set_format(type='pandas')\n",
    "\n",
    "df = dataset['train'][:]"
   ]
  },
  {
   "cell_type": "code",
   "execution_count": null,
   "metadata": {},
   "outputs": [],
   "source": [
    "PoE_Q = []\n",
    "PoE_A = []\n",
    "\n",
    "for i, j in zip(df['answer'], df['question']):\n",
    "    answer_last_char = i[-1]\n",
    "    \n",
    "    # A, B, C, D, E 각각에 대해 처리\n",
    "    if answer_last_char in [\"A\", \"B\", \"C\", \"D\", \"E\"]:\n",
    "        # 다른 선택지가 포함되지 않은 경우만 필터링\n",
    "        if not any(f\"{ch}.\" in i for ch in [\"A\", \"B\", \"C\", \"D\", \"E\"] if ch != answer_last_char):\n",
    "            PoE_A.append(i)\n",
    "            PoE_Q.append(j)\n",
    "            \n",
    "df_poe = pd.DataFrame({'question': PoE_Q, 'answer': PoE_A})"
   ]
  },
  {
   "cell_type": "code",
   "execution_count": null,
   "metadata": {},
   "outputs": [],
   "source": [
    "poe_answer = []\n",
    "poe_question = []\n",
    "\n",
    "# 문자별 제거할 패턴과 대체 텍스트를 딕셔너리로 정의\n",
    "# 각 키는 제거할 문자이며, 해당 문자가 질문 내에서 갖는 패턴을 정규식으로 처리한다.\n",
    "patterns = {\n",
    "    \"A\": (r'A\\.(.*?)B\\.', 'A. [공백] B.'),\n",
    "    \"B\": (r'B\\.(.*?)C\\.', 'B. [공백] C.'),\n",
    "    \"C\": (r'C\\.(.*?)D\\.', 'C. [공백] D.'),\n",
    "    \"D\": (r'D\\.(.*?)E\\.', 'D. [공백] E.'),\n",
    "    \"E\": (r'E\\.(.*)', 'E. [공백]')\n",
    "}\n",
    "\n",
    "# 정답의 마지막 문자를 기준으로 제거 가능한 문자 집합을 정의\n",
    "possible_letters = {\n",
    "    \"A\": ['B','C','D','E'],\n",
    "    \"B\": ['A','C','D','E'],\n",
    "    \"C\": ['A','B','D','E'],\n",
    "    \"D\": ['A','B','C','E'],\n",
    "    \"E\": ['A','B','C','D']\n",
    "}\n",
    "\n",
    "for q, a in zip(df_poe['question'], df_poe['answer']):\n",
    "    answer_last_char = a[-1]\n",
    "    if answer_last_char in possible_letters:\n",
    "        letters = possible_letters[answer_last_char]\n",
    "\n",
    "        # 랜덤으로 2개를 선택한 후 알파벳 순서대로 정렬\n",
    "        random_choices = random.sample(letters, 2)\n",
    "        random_choices.sort()\n",
    "\n",
    "        modified_text = q\n",
    "        for letter in random_choices:\n",
    "            pattern, repl = patterns[letter]\n",
    "            modified_text = re.sub(pattern, repl, modified_text)\n",
    "\n",
    "        poe_answer.append(a)\n",
    "        poe_question.append(modified_text)\n",
    "    else:\n",
    "        # 해당하지 않는 경우 원문 그대로\n",
    "        poe_answer.append(a)\n",
    "        poe_question.append(q)\n"
   ]
  },
  {
   "cell_type": "code",
   "execution_count": null,
   "metadata": {},
   "outputs": [],
   "source": [
    "added_text = (\n",
    "    \"다음 질문 중 가장 확률이 낮은 2가지를 소거 후 다음과 같은 문제로 치환합니다. \"\n",
    "    \"질문에 답하는 데 가장 적합한 선택지를 선택합니다. [공백] 선택지는 무시합니다. \"\n",
    ")\n",
    "\n",
    "# 답변을 바로 생성한 뒤 DataFrame에 할당\n",
    "final_answers = [f\"{added_text}{q}{a}\" for q, a in zip(poe_question, poe_answer)]\n",
    "\n",
    "real_df_poe = pd.DataFrame({\n",
    "    'question': PoE_Q,\n",
    "    'answer': final_answers\n",
    "})\n",
    "\n",
    "real_df_poe.to_parquet('train-00000-of-00001.parquet', index=False)"
   ]
  }
 ],
 "metadata": {
  "kernelspec": {
   "display_name": "Python 3",
   "language": "python",
   "name": "python3"
  },
  "language_info": {
   "codemirror_mode": {
    "name": "ipython",
    "version": 3
   },
   "file_extension": ".py",
   "mimetype": "text/x-python",
   "name": "python",
   "nbconvert_exporter": "python",
   "pygments_lexer": "ipython3",
   "version": "3.10.15"
  }
 },
 "nbformat": 4,
 "nbformat_minor": 2
}
