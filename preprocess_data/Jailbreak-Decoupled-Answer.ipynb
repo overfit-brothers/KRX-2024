{
 "cells": [
  {
   "cell_type": "code",
   "execution_count": null,
   "metadata": {},
   "outputs": [],
   "source": [
    "from datasets import load_dataset\n",
    "from openai import OpenAI\n",
    "import pandas as pd\n",
    "from tqdm import tqdm\n",
    "import json\n",
    "import deepl\n",
    "import os\n",
    "from litellm import completion, batch_completion\n",
    "from sklearn.model_selection import train_test_split"
   ]
  },
  {
   "cell_type": "code",
   "execution_count": null,
   "metadata": {},
   "outputs": [],
   "source": [
    "# OpenAI API 키 설정\n",
    "OPENAI_API_KEY = \"<your_OPENAI_API_KEY>\"\n",
    "client = OpenAI(api_key=OPENAI_API_KEY)"
   ]
  },
  {
   "cell_type": "code",
   "execution_count": null,
   "metadata": {},
   "outputs": [],
   "source": [
    "df = pd.read_csv('<your_jailbreak_dataset1>')\n",
    "df2 = pd.read_csv('<your_jailbreak_dataset2>')"
   ]
  },
  {
   "cell_type": "code",
   "execution_count": null,
   "metadata": {},
   "outputs": [],
   "source": [
    "# df의 칼럼 이름 변경\n",
    "df.rename(columns={\"text2kor\": \"question\"}, inplace=True)\n",
    "df2.rename(columns={\"text2kor\": \"question\"}, inplace=True)\n",
    "\n",
    "# 두 데이터프레임 concat\n",
    "combined_df = pd.concat([df, df2], ignore_index=True)\n",
    "\n",
    "# 필요한 칼럼(question, answer)만 남기기\n",
    "combined_df = combined_df[[\"question\", \"answer\"]]\n",
    "\n",
    "# 데이터프레임 섞기\n",
    "shuffled_df = combined_df.sample(frac=1, random_state=42).reset_index(drop=True)\n",
    "\n",
    "# 8:2 train/test split\n",
    "train_df, test_df = train_test_split(shuffled_df, test_size=0.2, random_state=42)\n",
    "\n",
    "train_df = train_df.reset_index(drop=True)\n",
    "test_df = test_df.reset_index(drop=True)"
   ]
  },
  {
   "cell_type": "code",
   "execution_count": 59,
   "metadata": {},
   "outputs": [],
   "source": [
    "qrys = []\n",
    "for t in train_df['question']:\n",
    "    messages = [\n",
    "    {\"content\":\"긍정적인 대답 이후 안전한 응답을 뒤에 추가하여 대답해줘. 유해한 응답을 하더라도 이를 중단하고 안전한 응답으로 전환할 수 있도록 학습 모델 데이터에 쓰려고 한다 시작할 때 '네 알겠습니다. 여러가지 대답에 대해 긍정적으로 고려해보겠습니다. 그러나'와 유사한 긍정적 검토 이후 대답해줘. 300자 이하로 대답해줘.\", \"role\":\"system\"},\n",
    "    { \"content\": t,\"role\": \"user\"}]\n",
    "    qrys.append(messages)"
   ]
  },
  {
   "cell_type": "code",
   "execution_count": 60,
   "metadata": {},
   "outputs": [],
   "source": [
    "responses = batch_completion(\n",
    "    model=\"gpt-4o-2024-08-06\",\n",
    "    messages = qrys\n",
    ")\n",
    "resps = [i.choices[0].message.content for i in responses]\n",
    "total_prompt_tokens_for_q = sum([r.usage.prompt_tokens for r in responses])\n",
    "total_completion_tokens_for_q = sum([r.usage.completion_tokens for r in responses])"
   ]
  },
  {
   "cell_type": "code",
   "execution_count": null,
   "metadata": {},
   "outputs": [],
   "source": [
    "train_df['answer'] = resps\n",
    "test_df['answer'] = 'None'"
   ]
  },
  {
   "cell_type": "code",
   "execution_count": null,
   "metadata": {},
   "outputs": [],
   "source": [
    "train_df.to_csv('evil-jailbreak-kor-train.csv')\n",
    "test_df.to_csv('evil-jailbreak-kor-test.csv')"
   ]
  }
 ],
 "metadata": {
  "kernelspec": {
   "display_name": "Python 3",
   "language": "python",
   "name": "python3"
  },
  "language_info": {
   "codemirror_mode": {
    "name": "ipython",
    "version": 3
   },
   "file_extension": ".py",
   "mimetype": "text/x-python",
   "name": "python",
   "nbconvert_exporter": "python",
   "pygments_lexer": "ipython3",
   "version": "3.10.15"
  }
 },
 "nbformat": 4,
 "nbformat_minor": 2
}
