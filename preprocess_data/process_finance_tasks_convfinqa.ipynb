{
 "cells": [
  {
   "cell_type": "code",
   "execution_count": null,
   "metadata": {},
   "outputs": [
    {
     "name": "stderr",
     "output_type": "stream",
     "text": [
      "/home/infidea/.local/lib/python3.8/site-packages/tqdm/auto.py:21: TqdmWarning: IProgress not found. Please update jupyter and ipywidgets. See https://ipywidgets.readthedocs.io/en/stable/user_install.html\n",
      "  from .autonotebook import tqdm as notebook_tqdm\n"
     ]
    }
   ],
   "source": [
    "from datasets import load_dataset, Dataset\n",
    "import json\n",
    "from tqdm import tqdm\n",
    "GPT_API_KEY = \"sk-XXX\"\n",
    "import openai\n",
    "client = openai.OpenAI(api_key=GPT_API_KEY)"
   ]
  },
  {
   "cell_type": "code",
   "execution_count": 11,
   "metadata": {},
   "outputs": [],
   "source": [
    "origin_data = load_dataset(\"mncai/finance-tasks-ConvFinQA-ko\")['train']"
   ]
  },
  {
   "cell_type": "code",
   "execution_count": 24,
   "metadata": {},
   "outputs": [],
   "source": [
    "def make_cot(data):\n",
    "    res_list = []\n",
    "    PROMPT = \"\"\" \n",
    "    당신은 금융, 재무 전문가입니다.\n",
    "    주어진 문제를 보고 풀이와 답을 알려주세요.\n",
    "    \n",
    "    요구사항: \n",
    "    - 문제에서 제공하는 정보를 파악하고 생각의 과정을 각각 한 문장으로 작성하세요.\n",
    "    - '따라서 정답은 XXX입니다' 로 풀이를 마무리 해주세요.\n",
    "    - 파악한 정보를 토대로 풀이를 작성하되 정보를 다시 작성하지는 마세요.\n",
    "    문제:\n",
    "    {question}\n",
    "    \"\"\"\n",
    "    question = data['input']\n",
    "    prompt = PROMPT.format(question=question)\n",
    "    response = client.chat.completions.create(\n",
    "    model=\"gpt-4o\",\n",
    "    messages=[\n",
    "        {\"role\": \"system\", \"content\": \"You are a helpful assistant.\"},\n",
    "        {\"role\": \"user\", \"content\": prompt},\n",
    "    ],\n",
    "    )\n",
    "    response_txt  = response.choices[0].message.content\n",
    "    return response_txt"
   ]
  },
  {
   "cell_type": "code",
   "execution_count": null,
   "metadata": {},
   "outputs": [
    {
     "name": "stderr",
     "output_type": "stream",
     "text": [
      "100%|██████████| 1208/1208 [1:20:52<00:00,  4.02s/it]\n"
     ]
    }
   ],
   "source": [
    "res_list = []\n",
    "for datum in tqdm(origin_data):\n",
    "    answer = make_cot(datum)\n",
    "    res_dict = {'question': datum['input'],\n",
    "                'answer': answer}\n",
    "    res_list.append(res_dict)"
   ]
  },
  {
   "cell_type": "code",
   "execution_count": 35,
   "metadata": {},
   "outputs": [],
   "source": [
    "for l in res_list:\n",
    "    l['answer'] = l['answerr']"
   ]
  },
  {
   "cell_type": "code",
   "execution_count": 38,
   "metadata": {},
   "outputs": [],
   "source": [
    "res_list = [{k: v for k, v in d.items() if k != 'answerr'} for d in res_list]"
   ]
  },
  {
   "cell_type": "code",
   "execution_count": 39,
   "metadata": {},
   "outputs": [
    {
     "data": {
      "text/plain": [
       "{'question': '2017년 12월 31일 현재, 이 회사는 2018년부터 2020년까지 만료되는 약 2,000만 달러의 총 주 소득세 세액 공제 이월 forwards을 보유하고 있다. 이러한 주 소득세 세액 공제 이월 forwards과 관련하여 약 1,600만 달러(연방 수혜 순)의 이연법인세 자산이 구축되어 있다, 2017년 12월 31일 현재 이러한 이연법인세자산에 대한 평가충당금은 700만 달러이다. 이 회사의 총 상태순영업손실 이월액은 3,900만 달러로 2027년에 만기가 도래한다. 순영업손실 이월액에 대해 약 300만 달러(연방급여순액)의 이연법인세자산이 설정되어 있다, 2017년 12월 31일 기준으로 전액 평가 수당을 지급합니다. 기타 국가 및 외국인 순영업손실 이월- forwards는 2019년 이연법인세 잔액에 별도로 누적적으로 중요하지 않으며 2026년에서 2036년 사이에 만기가 도래한다. 14. 부채 장기부채는 다음과 같이 구성되었다.\\n\\n($-million) | 2017년 12월 31일 | 2016년 12월 31일\\n2021년 12월 15일 만기 선순위 채권 5.000% (5.000%) | 2014 | 600\\n2025년 11월 15일 만기 선순위 채권 5.000% (5.000%) | 600 | 600\\n2027년 12월 12일 만기 선순위 채권 3.483% (3.483%) | 600 | 2014\\n미시시피 경제 개발 수익 채권은 2024년 5월 1일까지 7.81%(7.81%) | 84 | 84\\n걸프오퍼튜니티존 12월 12일 만기 산업개발수익채권 4.55% (4.55%) | 21 | 21\\n분할되지 않은 부채 발행 비용 감소 | -26(26) | -27(27)\\n총 장기 부채 | 1279 | 1278\\n\\n신용 시설 - 2017년 11월, 회사는 두 번째 수정 및 재작성된 신용 계약을 해지하고 제3자 대출 기관과 새로운 신용 계약(\"신용 시설\")을 체결했다. 리볼빙 신용시설은 2017년 11월 22일부터 5년간 차입 가능한 1억 2,500만 달러의 리볼빙 신용시설을 포함하며, 리볼빙 신용시설은 5억 달러의 신용장 하부시설을 포함한다. 리볼빙 신용시설은 런던 은행간 제시금리(\"libor\")에 회사의 신용등급에 기초한 스프레드(spread)에 기초한 미상환 차입금에 대한 변동금리를 가지고 있으며, 이 금리는 1.125%(1.125%)에서 1.500%(1.500%) 사이에서 변동될 수 있다. 리볼빙 크레딧 시설은 2019년 회사 레버리지 비율을 기준으로 미활용 잔액에 대한 커미션 수수료율도 적용하고 있다. 2017년 12월 31일 기준 수수료율은 0.25%(0.25%)이며, 0.20%(0.20%)에서 0.30%(0.30%) 사이에서 차이가 날 수 있다. 신용 시설은 최대 총 레버리지 비율에 기초한 금융 계약뿐만 아니라 관습적인 긍정적 계약과 부정적 계약을 포함한다. 무제한 자회사로 구체적으로 지정된 자회사를 제외한 회사의 기존 및 미래 소재 국내 자회사는 모두 신용 시설 하에서 보증인이 될 것이고 앞으로도 보증인이 될 것이다. 2015년 7월, 이 회사는 3억 4500만 달러의 장기 미상환 대출 원금을 포함한 모든 미상환 금액을 상환하기 위해 현금을 사용했다. 2017년 12월 31일 현재 1,500만 달러의 신용장이 발행되었으나 미인출되었고, 나머지 1억 2,3500만 달러의 회전신용시설은 활용되지 못하였다. 이 회사는 2017년 12월 31일과 2016년 12월 31일 현재 각각 1,100만 달러와 800만 달러의 신용 시설과 관련된 미환산 부채 발행 비용을 보유하고 있다. 선순위 채권 - 2017년 12월, 이 회사는 총 원금 6억 달러를 미등기 3.483%(3.483%)의 선순위 채권과 2027년 12월까지 등록권을 발행했다, 순익 중 5.000%(5.000%)의 선순위 채권을 상환하는 데 사용되었으며, 이 중 순익은 아래에서 설명하는 2017년 상환과 관련하여 2021년에 만기가 도래하는 회사의 선순위 채권을 상환하는 데 사용되었다. 2015년 11월, 이 회사는 2025년 11월에 만기가 도래하는 미등록 선순위 채권 5.000%(5.000%)의 총 원금 6억 달러를 발행했으며, 이 중 순익은 아래 설명되는 2015년 공개매수 및 환매와 관련하여 2021년 만기가 도래하는 선순위 채권 7.125%(7.125%)를 환매하는 데 사용되었다. 그 회사의 선순위 채권의 이자는 반기 annually로 지불해야 한다. 5.000%(5.000%)와 3.483%(3.483%)의 선순위 어음 조건은 회사의 2019년 능력과 특정 자회사의 유치권 창출, 매각 및 리스백 거래 체결, 자산 매각, 합병 효과 등을 제한한다. 이 회사는 2017년 12월 31일과 2016년 12월 31일에 각각 1,500만 달러와 1,900만 달러의 선순위 어음과 관련된 부채 발행 비용을 상각하지 않았다..\\n\\n2016~2017년 선순위 채권과 관련된 미환산 부채 발행 비용의 변화는? -4.0\\n\\n그럼 이 기간 동안 몇 퍼센트의 변화가 있었나요? -0.21053\\n\\n그 기간 동안 신용 시설과 관련된 변화는 무엇이었는가? 3.0\\n\\n그럼 몇 퍼센트의 변화가 있었나요?',\n",
       " 'answer': '1. 2016년과 2017년 사이의 신용 시설과 관련된 부채 발행 비용의 변화를 찾습니다.\\n2. 2016년에 신용 시설과 관련된 부채 발행 비용은 800만 달러였으며, 2017년에는 1,100만 달러입니다.\\n3. 따라서 신용 시설과 관련된 부채 발행 비용의 변화는 1,100만 달러 - 800만 달러 = 300만 달러 증가했습니다.\\n4. 이제 퍼센트 변화를 계산합니다.\\n5. 퍼센트 변화는 (변화량 / 초기 값) * 100% 입니다.\\n6. 초기 값은 800만 달러이고, 변화량은 300만 달러입니다.\\n7. 따라서 퍼센트 변화는 (300만 달러 / 800만 달러) * 100% = 37.5% 입니다.\\n\\n따라서, 신용 시설과 관련된 변화는 37.5%입니다.'}"
      ]
     },
     "execution_count": 39,
     "metadata": {},
     "output_type": "execute_result"
    }
   ],
   "source": [
    "res_list[0]"
   ]
  },
  {
   "cell_type": "code",
   "execution_count": 41,
   "metadata": {},
   "outputs": [
    {
     "data": {
      "text/plain": [
       "1208"
      ]
     },
     "execution_count": 41,
     "metadata": {},
     "output_type": "execute_result"
    }
   ],
   "source": [
    "len(res_list)"
   ]
  },
  {
   "cell_type": "code",
   "execution_count": 40,
   "metadata": {},
   "outputs": [
    {
     "name": "stderr",
     "output_type": "stream",
     "text": [
      "Creating parquet from Arrow format: 100%|██████████| 2/2 [00:00<00:00, 77.25ba/s]\n",
      "Uploading the dataset shards: 100%|██████████| 1/1 [00:02<00:00,  2.11s/it]\n"
     ]
    },
    {
     "data": {
      "text/plain": [
       "CommitInfo(commit_url='https://huggingface.co/datasets/overfit-brothers/ConvFinQA-ko-cot/commit/192f1fba113cfa3553d13e6a02dc7e2cc5e60b1c', commit_message='Upload dataset', commit_description='', oid='192f1fba113cfa3553d13e6a02dc7e2cc5e60b1c', pr_url=None, repo_url=RepoUrl('https://huggingface.co/datasets/overfit-brothers/ConvFinQA-ko-cot', endpoint='https://huggingface.co', repo_type='dataset', repo_id='overfit-brothers/ConvFinQA-ko-cot'), pr_revision=None, pr_num=None)"
      ]
     },
     "execution_count": 40,
     "metadata": {},
     "output_type": "execute_result"
    }
   ],
   "source": [
    "with open('convfinqa_cot.json','w',encoding='utf-8') as f:\n",
    "    json.dump(res_list,f,ensure_ascii=False, indent=4)\n",
    "\n",
    "\n",
    "res_data =Dataset.from_list(res_list)\n",
    "res_data.push_to_hub(\"overfit-brothers/ConvFinQA-ko-cot\")\n"
   ]
  }
 ],
 "metadata": {
  "kernelspec": {
   "display_name": "Python 3",
   "language": "python",
   "name": "python3"
  },
  "language_info": {
   "codemirror_mode": {
    "name": "ipython",
    "version": 3
   },
   "file_extension": ".py",
   "mimetype": "text/x-python",
   "name": "python",
   "nbconvert_exporter": "python",
   "pygments_lexer": "ipython3",
   "version": "3.8.10"
  }
 },
 "nbformat": 4,
 "nbformat_minor": 2
}
