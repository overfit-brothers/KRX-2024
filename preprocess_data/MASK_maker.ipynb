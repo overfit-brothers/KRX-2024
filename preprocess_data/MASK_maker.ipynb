{
 "cells": [
  {
   "cell_type": "code",
   "execution_count": null,
   "metadata": {},
   "outputs": [],
   "source": [
    "from datasets import load_dataset\n",
    "import pandas as pd\n",
    "from huggingface_hub import login\n",
    "import random\n",
    "import re\n",
    "\n",
    "login(token=\"<your_token>\")  # 로그인 위젯 실행 (토큰 필요)\n"
   ]
  },
  {
   "cell_type": "code",
   "execution_count": null,
   "metadata": {},
   "outputs": [],
   "source": [
    "dataset = load_dataset('<your_dataset>')"
   ]
  },
  {
   "cell_type": "code",
   "execution_count": null,
   "metadata": {},
   "outputs": [],
   "source": [
    "dataset.set_format(type='pandas')\n",
    "\n",
    "df = dataset['train'][:]"
   ]
  },
  {
   "cell_type": "code",
   "execution_count": null,
   "metadata": {},
   "outputs": [],
   "source": [
    "substitutions = {\n",
    "    'A': (r'A\\.(.*?)B\\.', 'A. [공백] B.'),\n",
    "    'B': (r'B\\.(.*?)C\\.', 'B. [공백] C.'),\n",
    "    'C': (r'C\\.(.*?)D\\.', 'C. [공백] D.'),\n",
    "    'D': (r'D\\.(.*)', 'D. [공백]')\n",
    "}\n",
    "\n",
    "options = ['A', 'B', 'C', 'D']\n",
    "\n",
    "PoE_Q = []\n",
    "PoE_A = []"
   ]
  },
  {
   "cell_type": "code",
   "execution_count": null,
   "metadata": {},
   "outputs": [],
   "source": [
    "# 1차 필터링\n",
    "for ans, ques in zip(df['answer'], df['question']):\n",
    "    answer_last_char = ans[-1]\n",
    "    if answer_last_char in options:\n",
    "        # 다른 선택지 문자가 포함되지 않은지 검사\n",
    "        if not any((ch + \".\") in ans for ch in options if ch != answer_last_char):\n",
    "            PoE_A.append(ans)\n",
    "            PoE_Q.append(ques)\n",
    "\n",
    "df_poe = pd.DataFrame({'question': PoE_Q, 'answer': PoE_A})"
   ]
  },
  {
   "cell_type": "code",
   "execution_count": null,
   "metadata": {},
   "outputs": [],
   "source": [
    "poe_answer = []\n",
    "poe_question = []\n",
    "\n",
    "# 2차 처리: 랜덤으로 2개 선택 후, 해당 부분 공백 처리\n",
    "for q, a in zip(df_poe['question'], df_poe['answer']):\n",
    "    answer_last_char = a[-1]\n",
    "    remaining_letters = [x for x in options if x != answer_last_char]\n",
    "    random_choices = random.sample(remaining_letters, 2)\n",
    "    random_choices.sort()\n",
    "\n",
    "    modified_text = q\n",
    "    # 선택한 두 글자에 대해 순차적으로 정규식 치환\n",
    "    for ch in random_choices:\n",
    "        pattern, repl = substitutions[ch]\n",
    "        modified_text = re.sub(pattern, repl, modified_text)\n",
    "\n",
    "    poe_answer.append(a)\n",
    "    poe_question.append(modified_text)\n"
   ]
  },
  {
   "cell_type": "code",
   "execution_count": null,
   "metadata": {},
   "outputs": [],
   "source": [
    "real_df_poe = pd.DataFrame({'question': poe_question, 'answer': poe_answer})\n",
    "real_df_poe.to_parquet('train-00000-of-00001.parquet', index=False)"
   ]
  }
 ],
 "metadata": {
  "kernelspec": {
   "display_name": "Python 3",
   "language": "python",
   "name": "python3"
  },
  "language_info": {
   "codemirror_mode": {
    "name": "ipython",
    "version": 3
   },
   "file_extension": ".py",
   "mimetype": "text/x-python",
   "name": "python",
   "nbconvert_exporter": "python",
   "pygments_lexer": "ipython3",
   "version": "3.10.15"
  }
 },
 "nbformat": 4,
 "nbformat_minor": 2
}
