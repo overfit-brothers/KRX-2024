{
 "cells": [
  {
   "cell_type": "markdown",
   "metadata": {},
   "source": [
    "### 기존 데이터셋 확인"
   ]
  },
  {
   "cell_type": "code",
   "execution_count": null,
   "metadata": {},
   "outputs": [],
   "source": [
    "from datasets import load_dataset\n",
    "tesat = load_dataset(\"overfit-brothers/TESAT\",split=\"train\")\n",
    "financial_mmlu = load_dataset(\"overfit-brothers/financial-mmlu-ko-cot-revised\",split=\"train\")\n"
   ]
  },
  {
   "cell_type": "code",
   "execution_count": 145,
   "metadata": {},
   "outputs": [],
   "source": [
    "import re\n",
    "def process_blank(example):\n",
    "    example = example.replace('\\n', ' ')\n",
    "    example = ' '.join(example.split())\n",
    "    return example\n",
    "\n",
    "\n",
    "def parse_choices(text):\n",
    "    # 정규표현식 패턴: 알파벳+점+공백 다음에 오는 텍스트를 캡처\n",
    "    pattern = r'([A-E])\\.\\s+([^A-E]+?)(?=[A-E]\\.|$)'\n",
    "    \n",
    "    # findall로 모든 매칭을 찾아서 딕셔너리로 변환\n",
    "    choices = dict(re.findall(pattern, text))\n",
    "    \n",
    "    # 각 선택지의 앞뒤 공백 제거\n",
    "    choices = {k: v.strip() for k, v in choices.items()}\n",
    "    \n",
    "    return choices"
   ]
  },
  {
   "cell_type": "code",
   "execution_count": null,
   "metadata": {},
   "outputs": [],
   "source": [
    "tesat[0]"
   ]
  },
  {
   "cell_type": "code",
   "execution_count": 129,
   "metadata": {},
   "outputs": [],
   "source": [
    "tesat_list = []\n",
    "for datum in tesat:\n",
    "    question = process_blank(datum['question']).replace('### 질문: ','')\n",
    "    answer_choice = datum['answer'].split(\"\\n\\n정답 \")[-1].rstrip('.')\n",
    "    answer = process_blank(datum['answer'].replace(\"\\n\\n정답 \",\"### 정답: \")).rstrip('.')\n",
    "\n",
    "    original_choices = parse_choices(question)\n",
    "    res_dict = {\n",
    "        'original_question': question,\n",
    "        'answer': answer,\n",
    "        'answer_choice': answer_choice,\n",
    "    }\n",
    "    for k,v in original_choices.items():\n",
    "        res_dict[k] = v\n",
    "    tesat_list.append(res_dict)"
   ]
  },
  {
   "cell_type": "code",
   "execution_count": null,
   "metadata": {},
   "outputs": [],
   "source": [
    "tesat_list"
   ]
  },
  {
   "cell_type": "code",
   "execution_count": 146,
   "metadata": {},
   "outputs": [],
   "source": [
    "HJ_list = []\n",
    "for datum in hand:\n",
    "    question = process_blank(datum['question']).replace('### 질문: ','')\n",
    "    answer_choice = datum['answer'].split(\"\\n\\n정답 \")[-1].rstrip('.')\n",
    "    answer = process_blank(datum['answer'].replace(\"\\n\\n정답 \",\"### 정답: \")).rstrip('.')\n",
    "\n",
    "    original_choices = parse_choices(question)\n",
    "    res_dict = {\n",
    "        'original_question': question,\n",
    "        'answer': answer,\n",
    "        'answer_choice': answer_choice,\n",
    "    }\n",
    "    for k,v in original_choices.items():\n",
    "        res_dict[k] = v\n",
    "    HJ_list.append(res_dict)"
   ]
  },
  {
   "cell_type": "code",
   "execution_count": 13,
   "metadata": {},
   "outputs": [],
   "source": [
    "financial_mmlu_list = []\n",
    "for datum in financial_mmlu:\n",
    "    question = datum['question']\n",
    "    answer = datum['answer']\n",
    "    answer_counts = {'A': answer.count('A'), 'B': answer.count('B'), 'C': answer.count('C'),\n",
    "                'D': answer.count('D'), 'E': answer.count('E'), 'F': answer.count('F')}\n",
    "    answer_choice = max(answer_counts, key=answer_counts.get)\n",
    "    original_choices = parse_choices(question)\n",
    "    res_dict = {\n",
    "    'original_question': question,\n",
    "    'answer': answer,\n",
    "    'answer_choice': answer_choice,\n",
    "}\n",
    "    for k,v in original_choices.items():\n",
    "        res_dict[k] = v\n",
    "    financial_mmlu_list.append(res_dict)"
   ]
  },
  {
   "cell_type": "code",
   "execution_count": 14,
   "metadata": {},
   "outputs": [
    {
     "data": {
      "text/plain": [
       "{'original_question': '금리의 종류에 대한 설명으로 바르지 않은 것은? ### 선택지: A. 변동금리는 시장금리 변동에 따른 위험을 자금공급자가 부담하게 된다 B. 피셔방정식에 의하면 실질금리는 명목금리에서 기대인플레이션을 차감하면 구할 수 있다. C. 복리는 원금에 대한 이자뿐 아니라 이자에 대한 이자도 함께 계산하는 방법이 다. D. 실효금리는 이자지급방법, 상환방법, 수수료, 세금 등을 감안한 후 차입자가 실질적으로 부담하는 순자금조달비용을 말한다. E. 채권시장에서는 금리보다 수익률이라는 용어를 더 많이 사용한다.',\n",
       " 'answer': 'A 문항은 변동금리에 대한 설명으로, 변동금리는 시장금리 변동에 따라 차입자가 금리 변동의 위험을 부담하는 것이 일반적입니다. 따라서 자금공급자가 위험을 부담한다는 설명은 바르지 않습니다. B 문항은 피셔방정식에 대한 설명으로, 실질금리는 명목금리에서 기대인플레이션을 차감하여 구할 수 있다는 설명이 맞습니다. C 문항은 복리에 대한 설명으로, 복리는 원금뿐만 아니라 이자에 대한 이자도 계산하는 방법이므로 맞는 설명입니다. D 문항은 실효금리에 대한 설명으로, 실효금리는 차입자가 실질적으로 부담하는 순자금조달비용을 의미하므로 맞는 설명입니다. E 문항은 채권시장에서 금리보다 수익률이라는 용어가 더 많이 사용된다는 설명으로, 일반적으로 맞는 설명입니다. ### 정답: A',\n",
       " 'answer_choice': 'A',\n",
       " 'A': '변동금리는 시장금리 변동에 따른 위험을 자금공급자가 부담하게 된다',\n",
       " 'B': '피셔방정식에 의하면 실질금리는 명목금리에서 기대인플레이션을 차감하면 구할 수 있다.',\n",
       " 'C': '복리는 원금에 대한 이자뿐 아니라 이자에 대한 이자도 함께 계산하는 방법이 다.',\n",
       " 'D': '실효금리는 이자지급방법, 상환방법, 수수료, 세금 등을 감안한 후 차입자가 실질적으로 부담하는 순자금조달비용을 말한다.',\n",
       " 'E': '채권시장에서는 금리보다 수익률이라는 용어를 더 많이 사용한다.'}"
      ]
     },
     "execution_count": 14,
     "metadata": {},
     "output_type": "execute_result"
    }
   ],
   "source": [
    "financial_mmlu_list[0]"
   ]
  },
  {
   "cell_type": "markdown",
   "metadata": {},
   "source": [
    "선택지 순서 셔플"
   ]
  },
  {
   "cell_type": "code",
   "execution_count": 18,
   "metadata": {},
   "outputs": [
    {
     "data": {
      "text/plain": [
       "{'original_question': '다음 중 시장실패라고 볼 수 없는 상황은? ### 선택지: A. 규모의 경제가 무한정 작용하고 있다. B. 독점기업이 존재한다 C. 기업이 적자가 나는데도 불구하고 구제금융을 받아 연명하고 있다. D. 공장이 많이 들어서자 주위의 강이 오염되어 버렸다. E. 어떤 중소기업이 아주 수익성이 좋은 투자계획안을 가지고 있음에도 불구하고 단지 중소기업이라는 이유 때문에 대출을 못 받고 있다.',\n",
       " 'answer': '시장의 실패는 경제학의 기본 명제인 자원의 최적 배분을 해결하지 못하는 시장 상황을 말한다. 가격 기능이 작동하지 않아 생산량이 사회 최적 수준보다 많아지거나 적어질 경우 자원의 최적 배분이 이뤄지지 않아 시장은 실패한다. 시장 실패는 규모의 경제가 작용하거나 기업의 기술개발 등으로 한두 개 기업이 시장을 독과점하는 경우, 환경 오염 비용이 사회에 전가되는 등 외부 효과가 발생하는 경우, 국방 치안처럼 재화나 서비스의 공급을 시장에 맡기기 힘든 경우(공공재) 등을 들 수 있다. 시장이 실패하면 보통 정부가 개입하지만 정부 역시 능력의 한계 불완전한 시장 정보 등으로 임시방편적인 처방을 내놓거나 정경유착 등의 부작용을 일으킬 수 있다. 이를 정부실패라고 한다. 문제의 보기 3번은 이윤을 창출하지 못하는 적자 기업이 시장에서 퇴출되지 않고 정부의 구제 금융에 의존하도록 하는 것은 시장 실패가 아닌 정부 실패다. 구제책은 시장의 정상적인 작동에 오히려 장애가 되고 불황을 장기화시킬 수 있다.### 정답: C',\n",
       " 'answer_choice': 'C',\n",
       " 'A': '규모의 경제가 무한정 작용하고 있다.',\n",
       " 'B': '독점기업이 존재한다',\n",
       " 'C': '기업이 적자가 나는데도 불구하고 구제금융을 받아 연명하고 있다.',\n",
       " 'D': '공장이 많이 들어서자 주위의 강이 오염되어 버렸다.',\n",
       " 'E': '어떤 중소기업이 아주 수익성이 좋은 투자계획안을 가지고 있음에도 불구하고 단지 중소기업이라는 이유 때문에 대출을 못 받고 있다.'}"
      ]
     },
     "execution_count": 18,
     "metadata": {},
     "output_type": "execute_result"
    }
   ],
   "source": [
    "tesat_list[0]"
   ]
  },
  {
   "cell_type": "code",
   "execution_count": 149,
   "metadata": {},
   "outputs": [],
   "source": [
    "from datasets import DatasetDict, Dataset\n",
    "import random\n",
    "from copy import deepcopy\n",
    "from tqdm.notebook import tqdm\n",
    "def shuffle_dataset(data_list, num_augmentations):\n",
    "    # 새로운 DatasetDict 생성\n",
    "    augmented_examples = []\n",
    "    # 각 예제에 대해 증강 수행\n",
    "    for example in tqdm(data_list):\n",
    "            \n",
    "        # 추가 증강 데이터 생성\n",
    "        for _ in range(num_augmentations):\n",
    "            PARSE_POSSIBLE = True\n",
    "            new_example = deepcopy(example)\n",
    "            \n",
    "            # 현재 정답 찾기\n",
    "            original_question = example['original_question'].split(\"### 선택지:\")[0].strip()\n",
    "            original_answer = example['answer_choice']\n",
    "            choices = []\n",
    "            choice_contents = {}\n",
    "            \n",
    "            # 가능한 모든 선택지 키 검사\n",
    "            possible_choices = ['A', 'B', 'C', 'D', 'E', 'F', 'G']\n",
    "            for choice in possible_choices:\n",
    "                if choice in example:\n",
    "                    choices.append(choice)\n",
    "                    choice_contents[choice] = example[choice]\n",
    "            \n",
    "            # answer_choice가 choices 안에 있는지 확인\n",
    "            if original_answer not in choices:\n",
    "                continue\n",
    "                \n",
    "            # 선택지 순서 섞기 (정답 위치가 바뀔 때까지)\n",
    "            max_attempts = 0  # 최대 시도 횟수 설정\n",
    "            while True:\n",
    "                new_choices = choices.copy()\n",
    "                random.shuffle(new_choices)\n",
    "                max_attempts += 1\n",
    "                if new_choices.index(original_answer) != choices.index(original_answer):\n",
    "                    break\n",
    "                if max_attempts >= 100:  # 최대 시도 횟수 초과 시 중단\n",
    "                    PARSE_POSSIBLE = False\n",
    "                    break\n",
    "            if not PARSE_POSSIBLE:\n",
    "                continue\n",
    "            # 새로운 순서로 선택지 재배치\n",
    "            choice_text_list = []\n",
    "            for i, new_choice in enumerate(new_choices):\n",
    "                new_example[choices[i]] = choice_contents[new_choice]\n",
    "                if new_choice == original_answer:\n",
    "                    new_example['answer'] = choices[i]\n",
    "                choice_text_list.append(f\"{choices[i]}.{choice_contents[new_choice]}\")\n",
    "                \n",
    "            new_example['question'] = f'{original_question} ### 선택지: {\" \".join(choice_text_list)}'\n",
    "            \n",
    "            choices_content = []\n",
    "            for choice in choices:\n",
    "                choices_content.append(new_example[choice])\n",
    "                del new_example[choice]\n",
    "                \n",
    "            new_example['choices'] = choices_content\n",
    "            del new_example['answer_choice']\n",
    "            del new_example['original_question']\n",
    "            augmented_examples.append(new_example)    \n",
    "    \n",
    "    return augmented_examples"
   ]
  },
  {
   "cell_type": "code",
   "execution_count": 45,
   "metadata": {},
   "outputs": [
    {
     "data": {
      "text/plain": [
       "{'original_question': '다음은 주식의 가치를 분석하기 위한 지표들에 대한 설명이다. 틀린 것은? ### 선택지: A. 주당순이익(EPS)은 법인세 공제 후 순이익을 주식 수로 나눈 값이다. B. 주가수익비율(PER)은 수익성 측면에서 주가를 판단하는 지표다. C. 주식 투자의 판단지표로 배당수익률은 고려 대상이 아니다. D. 주가순자산비율(PBR)은 주가를 1주당 순자산가액으로 나눈 값이다. E. 주가수익비율(PER)은 주가를 법인세 공제 후 1주당 순이익으로 나눈 것이다.',\n",
       " 'answer': '현재 주가가 고평가돼 있는지，저평가돼 있는지 또는 이 주식을 살지,말지를 판단하는 데는 다양한 지표들이 사용된다. 주당순이익(EPS)은 당기순익을 주식 수로 나눈 값이다. 두 기업의 당기순이익이 같아도 주식 수가 더 많은 기업,즉 EPS가 낮은 기업의 주가가 낮은 게 일반적이다. 주가수익비율(PER)은 주가를 주당순이익으로 나눈 수치로 순이익에 비해 주가가 얼마나 높은지 또는 낮은지를 나타내는 지표다. PER가 낮을수록 저평가돼 있어 성장 가능성이 높고，PER가 높을수록 고평가돼 있어 성장 가능성이 낮다. 하지만 PER가 낮아도 부실한 기업보다는 PER가 높더라도 우량한 대기업이 더 매력적인 구매력을 갖고 안정성이 높다. 즉 PER는 수익성 측면에서 주가를 판단하는 지표이며 안정성이 포함돼 있지 않으므로 투자에 절대적인 수치가 아니다. 주가순자산비율(PBR)은 주가를 주당 순자산으로 나눈 것이다. 순자산이란 대차대조표의 자산에서 부채를 차감한 후의 자산을 말한다. PBR는 재무내용면에서 주가를 판단하는 지표다. 어떤 기업의 PBR가 낮다면 부동산이나 설비시설，기타 유동자금들을 많이 보유하고 있는데 주가는 낮은 알짜배기 기업이라고 볼 수 있다. 배당수익률은 현 주가나 매입 주가에 대한 전년도 배당금 비율이다. 배당금이 많다면 주가가 많이 오르지 않아도 어느 정도의 안전마진을 확보할 수 있다. 예를 들어 매수가 대비 시가배당수익률이 금리 이상이라면 주가 변동이 없을 경우 은행에 저금했을 때의 이자수익이 확보된다. 배당이 많은 배당주들은 증시가 급락을 해도 일정 가격 이하로는 내려가지 않는 경우가 많아 하락장에 상대적으로 강하다는 평가를 받는다. 배당수익률도 주식 투자의 판단지표가 된다. ### 정답: C',\n",
       " 'answer_choice': 'C',\n",
       " 'C': '주식 투자의 판단지표로 배당수익률은 고려 대상이 아니다.'}"
      ]
     },
     "execution_count": 45,
     "metadata": {},
     "output_type": "execute_result"
    }
   ],
   "source": [
    "tesat_list[124]"
   ]
  },
  {
   "cell_type": "code",
   "execution_count": null,
   "metadata": {},
   "outputs": [],
   "source": [
    "# list_to_augment = [tesat_list,financial_market_list,financial_accounting_list,financial_mmlu_list,tat_fat_list]\n",
    "\n",
    "tesat_shuffled = shuffle_dataset(tesat_list,2)\n",
    "print('tesat_shuffled',len(tesat_shuffled))\n",
    "financial_mmlu_shuffled = shuffle_dataset(financial_mmlu_list,2)\n",
    "print('financial_mmlu_shuffled',len(financial_mmlu_shuffled))\n"
   ]
  },
  {
   "cell_type": "code",
   "execution_count": null,
   "metadata": {},
   "outputs": [],
   "source": [
    "import pandas as pd\n",
    "from datasets import load_dataset, Dataset\n",
    "import random\n",
    "from litellm import completion, batch_completion\n",
    "import os\n",
    "import litellm\n",
    "os.environ[\"OPENAI_API_KEY\"] = \"sk-XXX\"\n"
   ]
  },
  {
   "cell_type": "code",
   "execution_count": 155,
   "metadata": {},
   "outputs": [],
   "source": [
    "def make_cot_prompt(question):\n",
    "    prompt = f\"\"\"\n",
    "    문제를 읽고 파악한 후에, 한국어로 풀이과정과 정답을 알려주세요. \n",
    "    \n",
    "    - 요구사항: \n",
    "    1. 문제를 읽고 파악하고 문제에서 요구하는 목표를 간략하게 1문장으로 말하세요.\n",
    "    2. 풀이과정은 논리적 사고 흐름에 따라 생각의 사슬 형식으로 설명하세요. \n",
    "    3. 도출된 답안을 제시하고 마지막에 반드시 다음과 같이 정답의 기호(알파벳 대문자)를 한번 더 언급해 주세요. ### 정답: [정답 기호]\n",
    "    \n",
    "    답변 형식:\n",
    "    1) 문제 분석: [문제의 핵심 내용 정리]\n",
    "    2) 풀이 과정: [단계별 설명,문장 형식]\n",
    "    3) 최종 정답: ### 정답: [정답 기호]\n",
    "    <중요사항>\n",
    "    문제의 정답은 무조건 1개 존재하며, 복수 정답의 존재나 정답 불가능 등의 경우는 존재하지 않습니다.\n",
    "    </중요사항>\n",
    "    \n",
    "    문제: \n",
    "    {question}\n",
    "    \"\"\"\n",
    "    return prompt"
   ]
  },
  {
   "cell_type": "code",
   "execution_count": 156,
   "metadata": {},
   "outputs": [],
   "source": [
    "def make_answer_litellm(example:list):\n",
    "    qrys = []\n",
    "    for datum in example:\n",
    "        question = datum['question']\n",
    "        messages = [\n",
    "        {\"content\":\"You are Korean expert in finance and economics, and accounting.\",\"role\":\"system\"},\n",
    "        { \"content\": make_cot_prompt(question),\"role\": \"user\"}]\n",
    "        qrys.append(messages)\n",
    "    responses = batch_completion(\n",
    "    model=\"gpt-4o-2024-08-06\",\n",
    "    messages = qrys\n",
    ")   \n",
    "    resps = [i.choices[0].message.content for i in responses]\n",
    "    total_len = len(example)\n",
    "    cnt = 0\n",
    "    res_list = []\n",
    "    for datum, response in zip(example, resps):\n",
    "        label_answer = datum['answer']\n",
    "        hypothesis_answer = response.split(\"### 정답: \")[-1]\n",
    "        if hypothesis_answer not in ['A', 'B', 'C', 'D', 'E', 'F', 'G'] or hypothesis_answer != label_answer:\n",
    "            continue\n",
    "        res_list.append({'question': datum['question'], 'answer': process_blank(response)})\n",
    "        cnt += 1\n",
    "    print(f\"augmented {cnt}/{total_len}\")\n",
    "    return res_list"
   ]
  },
  {
   "cell_type": "code",
   "execution_count": null,
   "metadata": {},
   "outputs": [],
   "source": [
    "tesat_shuffled_with_answer = make_answer_litellm(tesat_shuffled)\n",
    "\n",
    "financial_mmlu_shuffled_with_answer = make_answer_litellm(financial_mmlu_shuffled)"
   ]
  },
  {
   "cell_type": "markdown",
   "metadata": {},
   "source": [
    "- shuffled tesat 정답률 77%\n",
    "- shuffled financial mmlu 정답률 83%"
   ]
  },
  {
   "cell_type": "code",
   "execution_count": 131,
   "metadata": {},
   "outputs": [],
   "source": [
    "from datasets import Dataset\n",
    "tesat_list_filtered = [{\n",
    "    'question': item['original_question'],\n",
    "    'answer': item['answer']\n",
    "} for item in tesat_list]\n",
    "tesat_final = Dataset.from_list(tesat_list_filtered+tesat_shuffled_with_answer)"
   ]
  },
  {
   "cell_type": "code",
   "execution_count": null,
   "metadata": {},
   "outputs": [],
   "source": [
    "tesat_final"
   ]
  },
  {
   "cell_type": "code",
   "execution_count": null,
   "metadata": {},
   "outputs": [],
   "source": [
    "\n",
    "financial_mmlu_list_filtered = [{\n",
    "    'question': item['original_question'],\n",
    "    'answer': item['answer']\n",
    "} for item in financial_mmlu_list]\n",
    "financial_mmlu_final = Dataset.from_list(financial_mmlu_list_filtered + financial_mmlu_shuffled_with_answer)"
   ]
  },
  {
   "cell_type": "code",
   "execution_count": null,
   "metadata": {},
   "outputs": [],
   "source": [
    "tesat_final.push_to_hub('overfit-brothers/TESAT_augmented',private=True)\n"
   ]
  }
 ],
 "metadata": {
  "kernelspec": {
   "display_name": "Python 3",
   "language": "python",
   "name": "python3"
  },
  "language_info": {
   "codemirror_mode": {
    "name": "ipython",
    "version": 3
   },
   "file_extension": ".py",
   "mimetype": "text/x-python",
   "name": "python",
   "nbconvert_exporter": "python",
   "pygments_lexer": "ipython3",
   "version": "3.6.9"
  }
 },
 "nbformat": 4,
 "nbformat_minor": 2
}
