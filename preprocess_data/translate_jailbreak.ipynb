{
 "cells": [
  {
   "cell_type": "code",
   "execution_count": 1,
   "metadata": {},
   "outputs": [],
   "source": [
    "from datasets import load_dataset\n",
    "from openai import OpenAI\n",
    "import pandas as pd\n",
    "from tqdm import tqdm\n",
    "import json\n",
    "import deepl\n",
    "import os\n",
    "from litellm import completion, batch_completion"
   ]
  },
  {
   "cell_type": "code",
   "execution_count": null,
   "metadata": {},
   "outputs": [],
   "source": [
    "# OpenAI API 키 설정\n",
    "DeepL_auth_key = \"<your_DeepL_APIKEY>\"\n",
    "\n",
    "translator = deepl.Translator(DeepL_auth_key)"
   ]
  },
  {
   "cell_type": "code",
   "execution_count": null,
   "metadata": {},
   "outputs": [],
   "source": [
    "# 탈옥을 유도하기 위한 탈옥문 데이터셋(ex.Granther/evil-jailbreak) \n",
    "ds = load_dataset(\"<jailbreak_dataset>\", split=None)"
   ]
  },
  {
   "cell_type": "code",
   "execution_count": 89,
   "metadata": {},
   "outputs": [],
   "source": [
    "ds.set_format(type='pandas')\n",
    "\n",
    "df = ds['train'][0:1200]\n",
    "\n",
    "filtered_df = df[df['text'].apply(lambda x: 'turn evil' in x[0]['content'])].reset_index(drop=True)"
   ]
  },
  {
   "cell_type": "code",
   "execution_count": null,
   "metadata": {},
   "outputs": [],
   "source": [
    "trans_kor = []\n",
    "for i, text in enumerate(filtered_df['text']):\n",
    "    trans_kor.append(translator.translate_text(text[0]['content'].replace(\" turn evil\",\"\"), target_lang=\"KO\").text)\n",
    "    \n",
    "filtered_df['text2kor'] = trans_kor\n",
    "filtered_df.to_csv('evil-jailbreak-kor.csv', index=False, encoding=\"utf-8-sig\")"
   ]
  }
 ],
 "metadata": {
  "kernelspec": {
   "display_name": "Python 3",
   "language": "python",
   "name": "python3"
  },
  "language_info": {
   "codemirror_mode": {
    "name": "ipython",
    "version": 3
   },
   "file_extension": ".py",
   "mimetype": "text/x-python",
   "name": "python",
   "nbconvert_exporter": "python",
   "pygments_lexer": "ipython3",
   "version": "3.10.15"
  }
 },
 "nbformat": 4,
 "nbformat_minor": 2
}
